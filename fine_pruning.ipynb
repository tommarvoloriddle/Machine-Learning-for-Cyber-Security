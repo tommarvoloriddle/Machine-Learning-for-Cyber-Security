{
  "nbformat": 4,
  "nbformat_minor": 0,
  "metadata": {
    "colab": {
      "provenance": [],
      "gpuType": "T4"
    },
    "kernelspec": {
      "name": "python3",
      "display_name": "Python 3"
    },
    "language_info": {
      "name": "python"
    },
    "accelerator": "GPU"
  },
  "cells": [
    {
      "cell_type": "code",
      "execution_count": 1,
      "metadata": {
        "colab": {
          "base_uri": "https://localhost:8080/"
        },
        "id": "wYX-Uwt4Xetm",
        "outputId": "ba5472c1-1af3-4621-a28f-ae22efe19444"
      },
      "outputs": [
        {
          "output_type": "stream",
          "name": "stdout",
          "text": [
            "Cloning into 'CSAW-HackML-2020'...\n",
            "remote: Enumerating objects: 220, done.\u001b[K\n",
            "remote: Counting objects: 100% (42/42), done.\u001b[K\n",
            "remote: Compressing objects: 100% (25/25), done.\u001b[K\n",
            "remote: Total 220 (delta 37), reused 17 (delta 17), pack-reused 178\u001b[K\n",
            "Receiving objects: 100% (220/220), 83.78 MiB | 10.53 MiB/s, done.\n",
            "Resolving deltas: 100% (83/83), done.\n"
          ]
        }
      ],
      "source": [
        "! git clone https://github.com/csaw-hackml/CSAW-HackML-2020"
      ]
    },
    {
      "cell_type": "code",
      "source": [
        "!gdown https://drive.google.com/u/0/uc?id=19OKCkY2CjV3ASkOe6nMSYTsOVcxAoCnA&export=download\n",
        "!gdown https://drive.google.com/u/0/uc?id=1XtYnM-IopU-QYVc99U51EiDvI5zxK0nV&export=download\n",
        "!gdown https://drive.google.com/u/0/uc?id=1P8PTL62x3cfpV9mrC0unqZjRFhlTTOSG&export=download\n",
        "!gdown --folder https://drive.google.com/drive/folders/1Rs68uH8Xqa4j6UxG53wzD0uyI8347dSq"
      ],
      "metadata": {
        "colab": {
          "base_uri": "https://localhost:8080/"
        },
        "id": "NOy5Csz4Yaq0",
        "outputId": "c62b62f5-1598-4f01-c735-fd62adb8d598"
      },
      "execution_count": 2,
      "outputs": [
        {
          "output_type": "stream",
          "name": "stdout",
          "text": [
            "Downloading...\n",
            "From: https://drive.google.com/u/0/uc?id=19OKCkY2CjV3ASkOe6nMSYTsOVcxAoCnA\n",
            "To: /content/clean_validation_data.h5\n",
            "100% 716M/716M [00:13<00:00, 53.3MB/s]\n",
            "Downloading...\n",
            "From: https://drive.google.com/u/0/uc?id=1XtYnM-IopU-QYVc99U51EiDvI5zxK0nV\n",
            "To: /content/clean_test_data.h5\n",
            "100% 398M/398M [00:12<00:00, 32.7MB/s]\n",
            "Downloading...\n",
            "From: https://drive.google.com/u/0/uc?id=1P8PTL62x3cfpV9mrC0unqZjRFhlTTOSG\n",
            "To: /content/sunglasses_poisoned_data.h5\n",
            "100% 398M/398M [00:11<00:00, 35.1MB/s]\n",
            "Retrieving folder list\n",
            "Retrieving folder 1FoLQD8IzTg9tYYRZXOd-iIvXdijn-GSs bd\n",
            "Processing file 1kxNACo0qFo8QdZgtGHvaA67p4h4RcNIy bd_test.h5\n",
            "Processing file 1DRKofqVdn2ioh44M45eYZHl_XAW9r3v4 bd_valid.h5\n",
            "Retrieving folder 1_Q3g8Yzres8E4yRLwkO31fAMjTGNPo0i cl\n",
            "Processing file 1HpahIi-RcvtaRoly_TbuoBzWUaAjVDgt test.h5\n",
            "Processing file 1nbB5tyUVClSaFvvg3hrFW4wOUj3GtNTf valid.h5\n",
            "Retrieving folder list completed\n",
            "Building directory structure\n",
            "Building directory structure completed\n",
            "Downloading...\n",
            "From: https://drive.google.com/uc?id=1kxNACo0qFo8QdZgtGHvaA67p4h4RcNIy\n",
            "To: /content/Lab3/bd/bd_test.h5\n",
            "100% 398M/398M [00:07<00:00, 50.1MB/s]\n",
            "Downloading...\n",
            "From: https://drive.google.com/uc?id=1DRKofqVdn2ioh44M45eYZHl_XAW9r3v4\n",
            "To: /content/Lab3/bd/bd_valid.h5\n",
            "100% 716M/716M [00:10<00:00, 71.5MB/s]\n",
            "Downloading...\n",
            "From: https://drive.google.com/uc?id=1HpahIi-RcvtaRoly_TbuoBzWUaAjVDgt\n",
            "To: /content/Lab3/cl/test.h5\n",
            "100% 398M/398M [00:08<00:00, 48.0MB/s]\n",
            "Downloading...\n",
            "From: https://drive.google.com/uc?id=1nbB5tyUVClSaFvvg3hrFW4wOUj3GtNTf\n",
            "To: /content/Lab3/cl/valid.h5\n",
            "100% 716M/716M [00:12<00:00, 58.6MB/s]\n",
            "Download completed\n"
          ]
        }
      ]
    },
    {
      "cell_type": "code",
      "source": [
        "import tensorflow as tf\n",
        "from tensorflow.keras import layers, models\n",
        "\n",
        "import matplotlib.pyplot as plt\n",
        "import pandas as pd\n",
        "import numpy as np\n",
        "import seaborn as sns\n",
        "import keras\n",
        "import sys\n",
        "import h5py\n",
        "import warnings\n",
        "from tqdm import tqdm"
      ],
      "metadata": {
        "id": "sdQ4J37PaBCB"
      },
      "execution_count": 1,
      "outputs": []
    },
    {
      "cell_type": "code",
      "source": [
        "# test_data_filename = '/content/clean_test_data.h5'\n",
        "# clean_data_filename = '/content/clean_validation_data.h5'\n",
        "# poisoned_data_filename = '/content/sunglasses_poisoned_data.h5'\n",
        "# model_filename = '/content/CSAW-HackML-2020/models/sunglasses_bd_net.h5'\n",
        "\n",
        "test_data_filename = '/content/Lab3/cl/test.h5'\n",
        "clean_data_filename = '/content/Lab3/cl/valid.h5'\n",
        "test_bad_data_filename = '/content/Lab3/bd/bd_test.h5'\n",
        "poisoned_data_filename = '/content/Lab3/bd/bd_valid.h5'\n",
        "model_filename = '/content/CSAW-HackML-2020/lab3/models/bd_net.h5'"
      ],
      "metadata": {
        "id": "XAZ8JP898sMi"
      },
      "execution_count": 2,
      "outputs": []
    },
    {
      "cell_type": "code",
      "source": [
        "import h5py\n",
        "import numpy as np\n",
        "\n",
        "def load_data(filepath):\n",
        "    with h5py.File(filepath, 'r') as data:\n",
        "        x_data = np.array(data['data'])\n",
        "        y_data = np.array(data['label'])\n",
        "        x_data = x_data.transpose((0, 2, 3, 1))\n",
        "        # use this for usnglasses dataset\n",
        "        # x_data = x_data/255.0\n",
        "    return x_data, y_data\n"
      ],
      "metadata": {
        "id": "Lr4nu8T59pR6"
      },
      "execution_count": 3,
      "outputs": []
    },
    {
      "cell_type": "code",
      "source": [
        "x_data, y_data = load_data(clean_data_filename)\n",
        "\n",
        "# Normalize pixel values to the range of 0 to 1\n",
        "# x_data_normalized = x_data / 255.0\n",
        "\n",
        "# Print 5 normalized images and labels in a single row\n",
        "num_images_to_display = 5\n",
        "\n",
        "plt.figure(figsize=(15, 3))  # Adjust the figure size as needed\n",
        "\n",
        "for i in range(num_images_to_display):\n",
        "    plt.subplot(1, num_images_to_display, i + 1)\n",
        "    plt.imshow(x_data[i])\n",
        "    plt.title(f'Label: {y_data[i]}')\n",
        "    plt.axis('off')\n",
        "\n",
        "plt.show()"
      ],
      "metadata": {
        "colab": {
          "base_uri": "https://localhost:8080/",
          "height": 228
        },
        "id": "KxcXMs-O9__c",
        "outputId": "f5d5e490-a233-46bb-a55c-13fe065d6287"
      },
      "execution_count": null,
      "outputs": [
        {
          "output_type": "display_data",
          "data": {
            "text/plain": [
              "<Figure size 1500x300 with 5 Axes>"
            ],
            "image/png": "[encoded data removed]"
          },
          "metadata": {}
        }
      ]
    },
    {
      "cell_type": "code",
      "source": [
        "x_data, y_data = load_data(poisoned_data_filename)\n",
        "\n",
        "# Normalize pixel values to the range of 0 to 1\n",
        "# x_data_normalized = x_data / 255.0\n",
        "\n",
        "# Print 5 normalized images and labels in a single row\n",
        "num_images_to_display = 5\n",
        "\n",
        "plt.figure(figsize=(15, 3))  # Adjust the figure size as needed\n",
        "\n",
        "for i in range(num_images_to_display):\n",
        "    plt.subplot(1, num_images_to_display, i + 1)\n",
        "    plt.imshow(x_data[i])\n",
        "    plt.title(f'Label: {y_data[i]}')\n",
        "    plt.axis('off')\n",
        "\n",
        "plt.show()"
      ],
      "metadata": {
        "colab": {
          "base_uri": "https://localhost:8080/",
          "height": 228
        },
        "id": "pWU5Y9gR-rgK",
        "outputId": "84a02512-ca7d-4e1f-8f4d-ff3472bb1cf8"
      },
      "execution_count": null,
      "outputs": [
        {
          "output_type": "display_data",
          "data": {
            "text/plain": [
              "<Figure size 1500x300 with 5 Axes>"
            ],
            "image/png": "[encoded data removed]"
          },
          "metadata": {}
        }
      ]
    },
    {
      "cell_type": "code",
      "source": [
        "model = keras.models.load_model(model_filename)\n",
        "print(model.summary())"
      ],
      "metadata": {
        "colab": {
          "base_uri": "https://localhost:8080/"
        },
        "id": "Z-pchqck_qkn",
        "outputId": "86a073a2-4759-4896-a479-8dcf3b7ba546"
      },
      "execution_count": 4,
      "outputs": [
        {
          "output_type": "stream",
          "name": "stdout",
          "text": [
            "Model: \"model_1\"\n",
            "__________________________________________________________________________________________________\n",
            " Layer (type)                Output Shape                 Param #   Connected to                  \n",
            "==================================================================================================\n",
            " input (InputLayer)          [(None, 55, 47, 3)]          0         []                            \n",
            "                                                                                                  \n",
            " conv_1 (Conv2D)             (None, 52, 44, 20)           980       ['input[0][0]']               \n",
            "                                                                                                  \n",
            " pool_1 (MaxPooling2D)       (None, 26, 22, 20)           0         ['conv_1[0][0]']              \n",
            "                                                                                                  \n",
            " conv_2 (Conv2D)             (None, 24, 20, 40)           7240      ['pool_1[0][0]']              \n",
            "                                                                                                  \n",
            " pool_2 (MaxPooling2D)       (None, 12, 10, 40)           0         ['conv_2[0][0]']              \n",
            "                                                                                                  \n",
            " conv_3 (Conv2D)             (None, 10, 8, 60)            21660     ['pool_2[0][0]']              \n",
            "                                                                                                  \n",
            " pool_3 (MaxPooling2D)       (None, 5, 4, 60)             0         ['conv_3[0][0]']              \n",
            "                                                                                                  \n",
            " conv_4 (Conv2D)             (None, 4, 3, 80)             19280     ['pool_3[0][0]']              \n",
            "                                                                                                  \n",
            " flatten_1 (Flatten)         (None, 1200)                 0         ['pool_3[0][0]']              \n",
            "                                                                                                  \n",
            " flatten_2 (Flatten)         (None, 960)                  0         ['conv_4[0][0]']              \n",
            "                                                                                                  \n",
            " fc_1 (Dense)                (None, 160)                  192160    ['flatten_1[0][0]']           \n",
            "                                                                                                  \n",
            " fc_2 (Dense)                (None, 160)                  153760    ['flatten_2[0][0]']           \n",
            "                                                                                                  \n",
            " add_1 (Add)                 (None, 160)                  0         ['fc_1[0][0]',                \n",
            "                                                                     'fc_2[0][0]']                \n",
            "                                                                                                  \n",
            " activation_1 (Activation)   (None, 160)                  0         ['add_1[0][0]']               \n",
            "                                                                                                  \n",
            " output (Dense)              (None, 1283)                 206563    ['activation_1[0][0]']        \n",
            "                                                                                                  \n",
            "==================================================================================================\n",
            "Total params: 601643 (2.30 MB)\n",
            "Trainable params: 601643 (2.30 MB)\n",
            "Non-trainable params: 0 (0.00 Byte)\n",
            "__________________________________________________________________________________________________\n",
            "None\n"
          ]
        }
      ]
    },
    {
      "cell_type": "code",
      "source": [
        "# Load data\n",
        "x_clean, y_clean = load_data(clean_data_filename)\n",
        "x_poisoned, y_poisoned = load_data(poisoned_data_filename)"
      ],
      "metadata": {
        "id": "MDywsI14AWX0"
      },
      "execution_count": 5,
      "outputs": []
    },
    {
      "cell_type": "code",
      "source": [
        "# Assuming y_clean is your array of labels\n",
        "unique_labels = np.unique(y_clean)\n",
        "\n",
        "# Get the number of unique labels\n",
        "num_unique_labels = len(unique_labels) - 1\n",
        "\n",
        "# Print or use num_unique_labels as needed\n",
        "print(\"Number of unique labels in y_clean:\", num_unique_labels)"
      ],
      "metadata": {
        "colab": {
          "base_uri": "https://localhost:8080/"
        },
        "id": "39tsihy9bCVI",
        "outputId": "b9811444-aece-42ea-f5de-77d4693e24d8"
      },
      "execution_count": 15,
      "outputs": [
        {
          "output_type": "stream",
          "name": "stdout",
          "text": [
            "Number of unique labels in y_clean: 1282\n"
          ]
        }
      ]
    },
    {
      "cell_type": "code",
      "source": [
        "# Use predict to get predicted probabilities\n",
        "clean_predictions = model.predict(x_clean)\n",
        "\n",
        "# Convert predicted probabilities to class labels\n",
        "clean_predictions_labels = np.argmax(clean_predictions, axis=1)\n",
        "\n",
        "# Calculate and print the clean accuracy\n",
        "clean_accuracy = np.mean(clean_predictions_labels == y_clean)\n",
        "print(\"\\nClean Data Accuracy:\", clean_accuracy * 100)"
      ],
      "metadata": {
        "colab": {
          "base_uri": "https://localhost:8080/"
        },
        "id": "6kX2W6hgCWUB",
        "outputId": "b9abcbbb-e8ad-4c3a-e22f-a42cdcebe096"
      },
      "execution_count": 20,
      "outputs": [
        {
          "output_type": "stream",
          "name": "stdout",
          "text": [
            "361/361 [==============================] - 1s 2ms/step\n",
            "\n",
            "Clean Data Accuracy: 98.64899974019225\n"
          ]
        }
      ]
    },
    {
      "cell_type": "code",
      "source": [
        "# Evaluate the model on poisoned data\n",
        "# Use predict to get predicted probabilities\n",
        "poisioned_predictions = model.predict(x_poisoned)\n",
        "\n",
        "# Convert predicted probabilities to class labels\n",
        "poisioned_predictions_labels = np.argmax(poisioned_predictions, axis=1)\n",
        "\n",
        "# Calculate and print the clean accuracy\n",
        "poisioned_accuracy = np.mean(poisioned_predictions_labels == y_poisoned)\n",
        "print(\"Posioned Data Accuracy or Attack Success Rate:\", poisioned_accuracy * 100)\n"
      ],
      "metadata": {
        "colab": {
          "base_uri": "https://localhost:8080/"
        },
        "id": "oRltBG3_Akdj",
        "outputId": "97493296-983a-489e-a2af-a980925b27ef"
      },
      "execution_count": 21,
      "outputs": [
        {
          "output_type": "stream",
          "name": "stdout",
          "text": [
            "361/361 [==============================] - 1s 2ms/step\n",
            "Posioned Data Accuracy or Attack Success Rate: 100.0\n"
          ]
        }
      ]
    },
    {
      "cell_type": "code",
      "source": [
        "def prune_and_save_models(model, layer_name, cl_x_test, cl_y_test, bd_x_test, bd_y_test, channels, epsilon, avg_activations):\n",
        "    saved_models = []\n",
        "\n",
        "    model_copy = keras.models.clone_model(model)\n",
        "    model_copy.set_weights(model.get_weights())\n",
        "\n",
        "    # Modify the weights of the specified channel to prune it\n",
        "    weights = model_copy.layers[5].get_weights()\n",
        "\n",
        "    # Use predict to get predicted probabilities\n",
        "    clean_predictions = model_copy.predict(x_clean)\n",
        "\n",
        "    # Convert predicted probabilities to class labels\n",
        "    clean_predictions_labels = np.argmax(clean_predictions, axis=1)\n",
        "\n",
        "    # Calculate and print the clean accuracy\n",
        "    clean_data_acc = np.mean(clean_predictions_labels == y_clean)\n",
        "    print()\n",
        "    print(\"Clean data accuracy: \", clean_data_acc)\n",
        "\n",
        "    # Iterate through channels and prune\n",
        "    for channel_index in tqdm(channels):\n",
        "\n",
        "        w = weights[0][:, :, :, channel_index] = 0\n",
        "        b = weights[1][channel_index] = 0\n",
        "        model_copy.layers[5].set_weights(weights)\n",
        "\n",
        "        # Evaluate the pruned model on clean data\n",
        "        # Use predict to get predicted probabilities\n",
        "        prune_predictions = model_copy.predict(x_clean)\n",
        "\n",
        "        # Convert predicted probabilities to class labels\n",
        "        prune_predictions_labels = np.argmax(prune_predictions, axis=1)\n",
        "\n",
        "        # Calculate and print the clean accuracy\n",
        "        prune_data_acc = np.mean(prune_predictions_labels == y_clean)\n",
        "        print()\n",
        "        print(\"Accuracy after dropping channel index: \", channel_index, \" is: \", prune_data_acc)\n",
        "\n",
        "        # Save the model if accuracy drops by specified percentages\n",
        "\n",
        "        drop_percentage = clean_data_acc - prune_data_acc\n",
        "\n",
        "        if drop_percentage > epsilon:\n",
        "            print(f\"The accuracy drops at least {epsilon * 100}%, saved the model\")\n",
        "            model_copy.save('./pruned_models/' + str(epsilon * 100))\n",
        "            print(\"Accuracy after dropping channel index: \", channel_index, \" is: \", prune_data_acc)\n",
        "            break\n",
        "\n",
        "    return saved_models"
      ],
      "metadata": {
        "id": "sKMRg9yeGTZf"
      },
      "execution_count": 8,
      "outputs": []
    },
    {
      "cell_type": "code",
      "source": [
        "# Get the output of the 'pool_3' layer from the model\n",
        "layer_output = model.get_layer('pool_3').output\n",
        "\n",
        "# Create an intermediate model that takes the input of the original model\n",
        "# and produces the output of the 'pool_3' layer\n",
        "intermediate_model = keras.models.Model(inputs=model.input, outputs=layer_output)\n",
        "\n",
        "# Use the intermediate model to predict the output for the input data x_clean\n",
        "intermediate_prediction = intermediate_model.predict(x_clean)\n",
        "\n",
        "# Calculate the average activations across dimensions 0, 1, and 2\n",
        "avg_activations = np.mean(intermediate_prediction, axis=(0, 1, 2))\n",
        "\n",
        "# Sort the indices of avg_activations in descending order\n",
        "channels = np.argsort(avg_activations)\n"
      ],
      "metadata": {
        "colab": {
          "base_uri": "https://localhost:8080/"
        },
        "id": "W41i2gqkjdRP",
        "outputId": "e793dd93-a315-4274-dcd0-7284a055edb2"
      },
      "execution_count": 6,
      "outputs": [
        {
          "output_type": "stream",
          "name": "stdout",
          "text": [
            "361/361 [==============================] - 6s 6ms/step\n"
          ]
        }
      ]
    },
    {
      "cell_type": "code",
      "source": [
        "\n",
        "original_model = model\n",
        "\n",
        "# Set the layer name\n",
        "layer_name = 'pool_3'\n",
        "\n",
        "# percentage accuracy drop\n",
        "epsilon = 2/100\n",
        "\n",
        "# Prune and save models\n",
        "saved_model = prune_and_save_models(original_model, layer_name, x_clean, y_clean, x_poisoned, y_poisoned, channels, epsilon, avg_activations)"
      ],
      "metadata": {
        "colab": {
          "base_uri": "https://localhost:8080/"
        },
        "id": "IOVWVMgJEad-",
        "outputId": "ceb2ccf1-3776-4381-ea10-749061c40738"
      },
      "execution_count": 24,
      "outputs": [
        {
          "output_type": "stream",
          "name": "stdout",
          "text": [
            "361/361 [==============================] - 1s 2ms/step\n",
            "\n",
            "Clean data accuracy:  0.9864899974019226\n"
          ]
        },
        {
          "output_type": "stream",
          "name": "stderr",
          "text": [
            "\r  0%|          | 0/60 [00:00<?, ?it/s]"
          ]
        },
        {
          "output_type": "stream",
          "name": "stdout",
          "text": [
            "361/361 [==============================] - 1s 2ms/step\n"
          ]
        },
        {
          "output_type": "stream",
          "name": "stderr",
          "text": [
            "\r  2%|▏         | 1/60 [00:02<02:21,  2.40s/it]"
          ]
        },
        {
          "output_type": "stream",
          "name": "stdout",
          "text": [
            "\n",
            "Accuracy after dropping channel index:  0  is:  0.9864899974019226\n",
            "361/361 [==============================] - 1s 3ms/step\n"
          ]
        },
        {
          "output_type": "stream",
          "name": "stderr",
          "text": [
            "\r  3%|▎         | 2/60 [00:05<02:43,  2.82s/it]"
          ]
        },
        {
          "output_type": "stream",
          "name": "stdout",
          "text": [
            "\n",
            "Accuracy after dropping channel index:  26  is:  0.9864899974019226\n",
            "361/361 [==============================] - 1s 2ms/step\n"
          ]
        },
        {
          "output_type": "stream",
          "name": "stderr",
          "text": [
            "\r  5%|▌         | 3/60 [00:08<02:36,  2.75s/it]"
          ]
        },
        {
          "output_type": "stream",
          "name": "stdout",
          "text": [
            "\n",
            "Accuracy after dropping channel index:  27  is:  0.9864899974019226\n",
            "361/361 [==============================] - 1s 2ms/step\n"
          ]
        },
        {
          "output_type": "stream",
          "name": "stderr",
          "text": [
            "\r  7%|▋         | 4/60 [00:10<02:21,  2.52s/it]"
          ]
        },
        {
          "output_type": "stream",
          "name": "stdout",
          "text": [
            "\n",
            "Accuracy after dropping channel index:  30  is:  0.9864899974019226\n",
            "361/361 [==============================] - 1s 2ms/step\n"
          ]
        },
        {
          "output_type": "stream",
          "name": "stderr",
          "text": [
            "\r  8%|▊         | 5/60 [00:12<02:18,  2.52s/it]"
          ]
        },
        {
          "output_type": "stream",
          "name": "stdout",
          "text": [
            "\n",
            "Accuracy after dropping channel index:  31  is:  0.9864899974019226\n",
            "361/361 [==============================] - 1s 4ms/step\n"
          ]
        },
        {
          "output_type": "stream",
          "name": "stderr",
          "text": [
            "\r 10%|█         | 6/60 [00:16<02:42,  3.01s/it]"
          ]
        },
        {
          "output_type": "stream",
          "name": "stdout",
          "text": [
            "\n",
            "Accuracy after dropping channel index:  33  is:  0.9864899974019226\n",
            "361/361 [==============================] - 1s 3ms/step\n"
          ]
        },
        {
          "output_type": "stream",
          "name": "stderr",
          "text": [
            "\r 12%|█▏        | 7/60 [00:21<03:00,  3.41s/it]"
          ]
        },
        {
          "output_type": "stream",
          "name": "stdout",
          "text": [
            "\n",
            "Accuracy after dropping channel index:  34  is:  0.9864899974019226\n",
            "361/361 [==============================] - 1s 2ms/step\n"
          ]
        },
        {
          "output_type": "stream",
          "name": "stderr",
          "text": [
            "\r 13%|█▎        | 8/60 [00:23<02:40,  3.08s/it]"
          ]
        },
        {
          "output_type": "stream",
          "name": "stdout",
          "text": [
            "\n",
            "Accuracy after dropping channel index:  36  is:  0.9864899974019226\n",
            "361/361 [==============================] - 1s 2ms/step\n"
          ]
        },
        {
          "output_type": "stream",
          "name": "stderr",
          "text": [
            "\r 15%|█▌        | 9/60 [00:25<02:21,  2.78s/it]"
          ]
        },
        {
          "output_type": "stream",
          "name": "stdout",
          "text": [
            "\n",
            "Accuracy after dropping channel index:  37  is:  0.9864899974019226\n",
            "361/361 [==============================] - 1s 2ms/step\n"
          ]
        },
        {
          "output_type": "stream",
          "name": "stderr",
          "text": [
            "\r 17%|█▋        | 10/60 [00:28<02:14,  2.69s/it]"
          ]
        },
        {
          "output_type": "stream",
          "name": "stdout",
          "text": [
            "\n",
            "Accuracy after dropping channel index:  38  is:  0.9864899974019226\n",
            "361/361 [==============================] - 1s 2ms/step\n"
          ]
        },
        {
          "output_type": "stream",
          "name": "stderr",
          "text": [
            "\r 18%|█▊        | 11/60 [00:30<02:09,  2.64s/it]"
          ]
        },
        {
          "output_type": "stream",
          "name": "stdout",
          "text": [
            "\n",
            "Accuracy after dropping channel index:  25  is:  0.9864899974019226\n",
            "361/361 [==============================] - 1s 3ms/step\n"
          ]
        },
        {
          "output_type": "stream",
          "name": "stderr",
          "text": [
            "\r 20%|██        | 12/60 [00:34<02:26,  3.04s/it]"
          ]
        },
        {
          "output_type": "stream",
          "name": "stdout",
          "text": [
            "\n",
            "Accuracy after dropping channel index:  39  is:  0.9864899974019226\n",
            "361/361 [==============================] - 1s 2ms/step\n"
          ]
        },
        {
          "output_type": "stream",
          "name": "stderr",
          "text": [
            "\r 22%|██▏       | 13/60 [00:36<02:10,  2.77s/it]"
          ]
        },
        {
          "output_type": "stream",
          "name": "stdout",
          "text": [
            "\n",
            "Accuracy after dropping channel index:  41  is:  0.9864899974019226\n",
            "361/361 [==============================] - 1s 2ms/step\n"
          ]
        },
        {
          "output_type": "stream",
          "name": "stderr",
          "text": [
            "\r 23%|██▎       | 14/60 [00:38<01:59,  2.59s/it]"
          ]
        },
        {
          "output_type": "stream",
          "name": "stdout",
          "text": [
            "\n",
            "Accuracy after dropping channel index:  44  is:  0.9864899974019226\n",
            "361/361 [==============================] - 1s 2ms/step\n"
          ]
        },
        {
          "output_type": "stream",
          "name": "stderr",
          "text": [
            "\r 25%|██▌       | 15/60 [00:41<01:54,  2.54s/it]"
          ]
        },
        {
          "output_type": "stream",
          "name": "stdout",
          "text": [
            "\n",
            "Accuracy after dropping channel index:  45  is:  0.9864899974019226\n",
            "361/361 [==============================] - 1s 2ms/step\n"
          ]
        },
        {
          "output_type": "stream",
          "name": "stderr",
          "text": [
            "\r 27%|██▋       | 16/60 [00:43<01:49,  2.50s/it]"
          ]
        },
        {
          "output_type": "stream",
          "name": "stdout",
          "text": [
            "\n",
            "Accuracy after dropping channel index:  47  is:  0.9864899974019226\n",
            "361/361 [==============================] - 1s 3ms/step\n"
          ]
        },
        {
          "output_type": "stream",
          "name": "stderr",
          "text": [
            "\r 28%|██▊       | 17/60 [00:47<02:10,  3.02s/it]"
          ]
        },
        {
          "output_type": "stream",
          "name": "stdout",
          "text": [
            "\n",
            "Accuracy after dropping channel index:  48  is:  0.9864899974019226\n",
            "361/361 [==============================] - 2s 4ms/step\n"
          ]
        },
        {
          "output_type": "stream",
          "name": "stderr",
          "text": [
            "\r 30%|███       | 18/60 [00:52<02:26,  3.49s/it]"
          ]
        },
        {
          "output_type": "stream",
          "name": "stdout",
          "text": [
            "\n",
            "Accuracy after dropping channel index:  49  is:  0.9864899974019226\n",
            "361/361 [==============================] - 1s 3ms/step\n"
          ]
        },
        {
          "output_type": "stream",
          "name": "stderr",
          "text": [
            "\r 32%|███▏      | 19/60 [00:55<02:15,  3.30s/it]"
          ]
        },
        {
          "output_type": "stream",
          "name": "stdout",
          "text": [
            "\n",
            "Accuracy after dropping channel index:  50  is:  0.9864899974019226\n",
            "361/361 [==============================] - 2s 5ms/step\n"
          ]
        },
        {
          "output_type": "stream",
          "name": "stderr",
          "text": [
            "\r 33%|███▎      | 20/60 [00:59<02:18,  3.46s/it]"
          ]
        },
        {
          "output_type": "stream",
          "name": "stdout",
          "text": [
            "\n",
            "Accuracy after dropping channel index:  53  is:  0.9864899974019226\n",
            "361/361 [==============================] - 2s 4ms/step\n"
          ]
        },
        {
          "output_type": "stream",
          "name": "stderr",
          "text": [
            "\r 35%|███▌      | 21/60 [01:04<02:36,  4.02s/it]"
          ]
        },
        {
          "output_type": "stream",
          "name": "stdout",
          "text": [
            "\n",
            "Accuracy after dropping channel index:  55  is:  0.9864899974019226\n",
            "361/361 [==============================] - 1s 3ms/step\n"
          ]
        },
        {
          "output_type": "stream",
          "name": "stderr",
          "text": [
            "\r 37%|███▋      | 22/60 [01:06<02:14,  3.53s/it]"
          ]
        },
        {
          "output_type": "stream",
          "name": "stdout",
          "text": [
            "\n",
            "Accuracy after dropping channel index:  40  is:  0.9864899974019226\n",
            "361/361 [==============================] - 1s 4ms/step\n"
          ]
        },
        {
          "output_type": "stream",
          "name": "stderr",
          "text": [
            "\r 38%|███▊      | 23/60 [01:12<02:30,  4.06s/it]"
          ]
        },
        {
          "output_type": "stream",
          "name": "stdout",
          "text": [
            "\n",
            "Accuracy after dropping channel index:  24  is:  0.9864899974019226\n",
            "361/361 [==============================] - 1s 3ms/step\n"
          ]
        },
        {
          "output_type": "stream",
          "name": "stderr",
          "text": [
            "\r 40%|████      | 24/60 [01:15<02:13,  3.70s/it]"
          ]
        },
        {
          "output_type": "stream",
          "name": "stdout",
          "text": [
            "\n",
            "Accuracy after dropping channel index:  59  is:  0.9864899974019226\n",
            "361/361 [==============================] - 1s 2ms/step\n"
          ]
        },
        {
          "output_type": "stream",
          "name": "stderr",
          "text": [
            "\r 42%|████▏     | 25/60 [01:17<01:56,  3.34s/it]"
          ]
        },
        {
          "output_type": "stream",
          "name": "stdout",
          "text": [
            "\n",
            "Accuracy after dropping channel index:  9  is:  0.9864899974019226\n",
            "361/361 [==============================] - 1s 2ms/step\n"
          ]
        },
        {
          "output_type": "stream",
          "name": "stderr",
          "text": [
            "\r 43%|████▎     | 26/60 [01:19<01:41,  2.99s/it]"
          ]
        },
        {
          "output_type": "stream",
          "name": "stdout",
          "text": [
            "\n",
            "Accuracy after dropping channel index:  2  is:  0.9864899974019226\n",
            "361/361 [==============================] - 1s 2ms/step\n"
          ]
        },
        {
          "output_type": "stream",
          "name": "stderr",
          "text": [
            "\r 45%|████▌     | 27/60 [01:21<01:30,  2.74s/it]"
          ]
        },
        {
          "output_type": "stream",
          "name": "stdout",
          "text": [
            "\n",
            "Accuracy after dropping channel index:  12  is:  0.9864899974019226\n",
            "361/361 [==============================] - 1s 2ms/step\n"
          ]
        },
        {
          "output_type": "stream",
          "name": "stderr",
          "text": [
            "\r 47%|████▋     | 28/60 [01:23<01:21,  2.55s/it]"
          ]
        },
        {
          "output_type": "stream",
          "name": "stdout",
          "text": [
            "\n",
            "Accuracy after dropping channel index:  13  is:  0.9864899974019226\n",
            "361/361 [==============================] - 1s 2ms/step\n"
          ]
        },
        {
          "output_type": "stream",
          "name": "stderr",
          "text": [
            "\r 48%|████▊     | 29/60 [01:26<01:18,  2.53s/it]"
          ]
        },
        {
          "output_type": "stream",
          "name": "stdout",
          "text": [
            "\n",
            "Accuracy after dropping channel index:  17  is:  0.9864899974019226\n",
            "361/361 [==============================] - 1s 3ms/step\n"
          ]
        },
        {
          "output_type": "stream",
          "name": "stderr",
          "text": [
            "\r 50%|█████     | 30/60 [01:30<01:29,  2.98s/it]"
          ]
        },
        {
          "output_type": "stream",
          "name": "stdout",
          "text": [
            "\n",
            "Accuracy after dropping channel index:  14  is:  0.9864899974019226\n",
            "361/361 [==============================] - 1s 2ms/step\n"
          ]
        },
        {
          "output_type": "stream",
          "name": "stderr",
          "text": [
            "\r 52%|█████▏    | 31/60 [01:32<01:20,  2.79s/it]"
          ]
        },
        {
          "output_type": "stream",
          "name": "stdout",
          "text": [
            "\n",
            "Accuracy after dropping channel index:  15  is:  0.9864899974019226\n",
            "361/361 [==============================] - 1s 2ms/step\n"
          ]
        },
        {
          "output_type": "stream",
          "name": "stderr",
          "text": [
            "\r 53%|█████▎    | 32/60 [01:35<01:14,  2.67s/it]"
          ]
        },
        {
          "output_type": "stream",
          "name": "stdout",
          "text": [
            "\n",
            "Accuracy after dropping channel index:  23  is:  0.9864899974019226\n",
            "361/361 [==============================] - 1s 2ms/step\n"
          ]
        },
        {
          "output_type": "stream",
          "name": "stderr",
          "text": [
            "\r 55%|█████▌    | 33/60 [01:37<01:07,  2.51s/it]"
          ]
        },
        {
          "output_type": "stream",
          "name": "stdout",
          "text": [
            "\n",
            "Accuracy after dropping channel index:  6  is:  0.9864899974019226\n",
            "361/361 [==============================] - 1s 2ms/step\n"
          ]
        },
        {
          "output_type": "stream",
          "name": "stderr",
          "text": [
            "\r 57%|█████▋    | 34/60 [01:39<01:02,  2.40s/it]"
          ]
        },
        {
          "output_type": "stream",
          "name": "stdout",
          "text": [
            "\n",
            "Accuracy after dropping channel index:  51  is:  0.9864033948211657\n",
            "361/361 [==============================] - 1s 3ms/step\n"
          ]
        },
        {
          "output_type": "stream",
          "name": "stderr",
          "text": [
            "\r 58%|█████▊    | 35/60 [01:42<01:03,  2.55s/it]"
          ]
        },
        {
          "output_type": "stream",
          "name": "stdout",
          "text": [
            "\n",
            "Accuracy after dropping channel index:  32  is:  0.9864033948211657\n",
            "361/361 [==============================] - 1s 2ms/step\n"
          ]
        },
        {
          "output_type": "stream",
          "name": "stderr",
          "text": [
            "\r 60%|██████    | 36/60 [01:44<01:00,  2.51s/it]"
          ]
        },
        {
          "output_type": "stream",
          "name": "stdout",
          "text": [
            "\n",
            "Accuracy after dropping channel index:  22  is:  0.9863167922404088\n",
            "361/361 [==============================] - 1s 2ms/step\n"
          ]
        },
        {
          "output_type": "stream",
          "name": "stderr",
          "text": [
            "\r 62%|██████▏   | 37/60 [01:47<00:56,  2.47s/it]"
          ]
        },
        {
          "output_type": "stream",
          "name": "stdout",
          "text": [
            "\n",
            "Accuracy after dropping channel index:  21  is:  0.9865765999826794\n",
            "361/361 [==============================] - 1s 2ms/step\n"
          ]
        },
        {
          "output_type": "stream",
          "name": "stderr",
          "text": [
            "\r 63%|██████▎   | 38/60 [01:49<00:52,  2.37s/it]"
          ]
        },
        {
          "output_type": "stream",
          "name": "stdout",
          "text": [
            "\n",
            "Accuracy after dropping channel index:  20  is:  0.9864899974019226\n",
            "361/361 [==============================] - 1s 2ms/step\n"
          ]
        },
        {
          "output_type": "stream",
          "name": "stderr",
          "text": [
            "\r 65%|██████▌   | 39/60 [01:51<00:49,  2.38s/it]"
          ]
        },
        {
          "output_type": "stream",
          "name": "stdout",
          "text": [
            "\n",
            "Accuracy after dropping channel index:  19  is:  0.9860569844981381\n",
            "361/361 [==============================] - 1s 2ms/step\n"
          ]
        },
        {
          "output_type": "stream",
          "name": "stderr",
          "text": [
            "\r 67%|██████▋   | 40/60 [01:54<00:47,  2.38s/it]"
          ]
        },
        {
          "output_type": "stream",
          "name": "stdout",
          "text": [
            "\n",
            "Accuracy after dropping channel index:  43  is:  0.9857105741751104\n",
            "361/361 [==============================] - 1s 3ms/step\n"
          ]
        },
        {
          "output_type": "stream",
          "name": "stderr",
          "text": [
            "\r 68%|██████▊   | 41/60 [01:57<00:49,  2.62s/it]"
          ]
        },
        {
          "output_type": "stream",
          "name": "stdout",
          "text": [
            "\n",
            "Accuracy after dropping channel index:  58  is:  0.9853641638520828\n",
            "361/361 [==============================] - 1s 2ms/step\n"
          ]
        },
        {
          "output_type": "stream",
          "name": "stderr",
          "text": [
            "\r 70%|███████   | 42/60 [01:59<00:45,  2.53s/it]"
          ]
        },
        {
          "output_type": "stream",
          "name": "stdout",
          "text": [
            "\n",
            "Accuracy after dropping channel index:  3  is:  0.9819000606218066\n",
            "361/361 [==============================] - 1s 2ms/step\n"
          ]
        },
        {
          "output_type": "stream",
          "name": "stderr",
          "text": [
            "\r 72%|███████▏  | 43/60 [02:01<00:40,  2.41s/it]"
          ]
        },
        {
          "output_type": "stream",
          "name": "stdout",
          "text": [
            "\n",
            "Accuracy after dropping channel index:  42  is:  0.9765307006148783\n",
            "361/361 [==============================] - 1s 2ms/step\n"
          ]
        },
        {
          "output_type": "stream",
          "name": "stderr",
          "text": [
            "\r 73%|███████▎  | 44/60 [02:04<00:38,  2.40s/it]"
          ]
        },
        {
          "output_type": "stream",
          "name": "stdout",
          "text": [
            "\n",
            "Accuracy after dropping channel index:  1  is:  0.9750584567420109\n",
            "361/361 [==============================] - 1s 2ms/step\n"
          ]
        },
        {
          "output_type": "stream",
          "name": "stderr",
          "text": [
            "WARNING:tensorflow:Compiled the loaded model, but the compiled metrics have yet to be built. `model.compile_metrics` will be empty until you train or evaluate the model.\n"
          ]
        },
        {
          "output_type": "stream",
          "name": "stdout",
          "text": [
            "\n",
            "Accuracy after dropping channel index:  29  is:  0.9575647354291158\n",
            "The accuracy drops at least 2.0%, saved the model\n"
          ]
        },
        {
          "output_type": "stream",
          "name": "stderr",
          "text": [
            "\r 73%|███████▎  | 44/60 [02:08<00:46,  2.91s/it]"
          ]
        },
        {
          "output_type": "stream",
          "name": "stdout",
          "text": [
            "Accuracy after dropping channel index:  29  is:  0.9575647354291158\n"
          ]
        },
        {
          "output_type": "stream",
          "name": "stderr",
          "text": [
            "\n"
          ]
        }
      ]
    },
    {
      "cell_type": "code",
      "source": [
        "\n",
        "original_model = model\n",
        "\n",
        "# Set the layer name\n",
        "layer_name = 'pool_3'\n",
        "\n",
        "# percentage accuracy drop\n",
        "epsilon = 4/100\n",
        "\n",
        "# Prune and save models\n",
        "saved_model = prune_and_save_models(original_model, layer_name, x_clean, y_clean, x_poisoned, y_poisoned, channels, epsilon, avg_activations)"
      ],
      "metadata": {
        "colab": {
          "base_uri": "https://localhost:8080/"
        },
        "id": "HOW162GRkAy3",
        "outputId": "8f6810fb-ba94-42cd-86e0-cfb6230aecfb"
      },
      "execution_count": 25,
      "outputs": [
        {
          "output_type": "stream",
          "name": "stdout",
          "text": [
            "361/361 [==============================] - 1s 3ms/step\n",
            "\n",
            "Clean data accuracy:  0.9864899974019226\n"
          ]
        },
        {
          "output_type": "stream",
          "name": "stderr",
          "text": [
            "\r  0%|          | 0/60 [00:00<?, ?it/s]"
          ]
        },
        {
          "output_type": "stream",
          "name": "stdout",
          "text": [
            "361/361 [==============================] - 1s 2ms/step\n"
          ]
        },
        {
          "output_type": "stream",
          "name": "stderr",
          "text": [
            "\r  2%|▏         | 1/60 [00:02<02:11,  2.22s/it]"
          ]
        },
        {
          "output_type": "stream",
          "name": "stdout",
          "text": [
            "\n",
            "Accuracy after dropping channel index:  0  is:  0.9864899974019226\n",
            "361/361 [==============================] - 1s 2ms/step\n"
          ]
        },
        {
          "output_type": "stream",
          "name": "stderr",
          "text": [
            "\r  3%|▎         | 2/60 [00:04<02:06,  2.19s/it]"
          ]
        },
        {
          "output_type": "stream",
          "name": "stdout",
          "text": [
            "\n",
            "Accuracy after dropping channel index:  26  is:  0.9864899974019226\n",
            "361/361 [==============================] - 1s 2ms/step\n"
          ]
        },
        {
          "output_type": "stream",
          "name": "stderr",
          "text": [
            "\r  5%|▌         | 3/60 [00:06<02:09,  2.28s/it]"
          ]
        },
        {
          "output_type": "stream",
          "name": "stdout",
          "text": [
            "\n",
            "Accuracy after dropping channel index:  27  is:  0.9864899974019226\n",
            "361/361 [==============================] - 1s 2ms/step\n"
          ]
        },
        {
          "output_type": "stream",
          "name": "stderr",
          "text": [
            "\r  7%|▋         | 4/60 [00:09<02:10,  2.33s/it]"
          ]
        },
        {
          "output_type": "stream",
          "name": "stdout",
          "text": [
            "\n",
            "Accuracy after dropping channel index:  30  is:  0.9864899974019226\n",
            "361/361 [==============================] - 1s 3ms/step\n"
          ]
        },
        {
          "output_type": "stream",
          "name": "stderr",
          "text": [
            "\r  8%|▊         | 5/60 [00:11<02:15,  2.46s/it]"
          ]
        },
        {
          "output_type": "stream",
          "name": "stdout",
          "text": [
            "\n",
            "Accuracy after dropping channel index:  31  is:  0.9864899974019226\n",
            "361/361 [==============================] - 1s 2ms/step\n"
          ]
        },
        {
          "output_type": "stream",
          "name": "stderr",
          "text": [
            "\r 10%|█         | 6/60 [00:14<02:19,  2.57s/it]"
          ]
        },
        {
          "output_type": "stream",
          "name": "stdout",
          "text": [
            "\n",
            "Accuracy after dropping channel index:  33  is:  0.9864899974019226\n",
            "361/361 [==============================] - 1s 2ms/step\n"
          ]
        },
        {
          "output_type": "stream",
          "name": "stderr",
          "text": [
            "\r 12%|█▏        | 7/60 [00:17<02:13,  2.52s/it]"
          ]
        },
        {
          "output_type": "stream",
          "name": "stdout",
          "text": [
            "\n",
            "Accuracy after dropping channel index:  34  is:  0.9864899974019226\n",
            "361/361 [==============================] - 1s 3ms/step\n"
          ]
        },
        {
          "output_type": "stream",
          "name": "stderr",
          "text": [
            "\r 13%|█▎        | 8/60 [00:19<02:09,  2.49s/it]"
          ]
        },
        {
          "output_type": "stream",
          "name": "stdout",
          "text": [
            "\n",
            "Accuracy after dropping channel index:  36  is:  0.9864899974019226\n",
            "361/361 [==============================] - 1s 2ms/step\n"
          ]
        },
        {
          "output_type": "stream",
          "name": "stderr",
          "text": [
            "\r 15%|█▌        | 9/60 [00:22<02:09,  2.53s/it]"
          ]
        },
        {
          "output_type": "stream",
          "name": "stdout",
          "text": [
            "\n",
            "Accuracy after dropping channel index:  37  is:  0.9864899974019226\n",
            "361/361 [==============================] - 1s 4ms/step\n"
          ]
        },
        {
          "output_type": "stream",
          "name": "stderr",
          "text": [
            "\r 17%|█▋        | 10/60 [00:25<02:24,  2.88s/it]"
          ]
        },
        {
          "output_type": "stream",
          "name": "stdout",
          "text": [
            "\n",
            "Accuracy after dropping channel index:  38  is:  0.9864899974019226\n",
            "361/361 [==============================] - 1s 2ms/step\n"
          ]
        },
        {
          "output_type": "stream",
          "name": "stderr",
          "text": [
            "\r 18%|█▊        | 11/60 [00:28<02:14,  2.75s/it]"
          ]
        },
        {
          "output_type": "stream",
          "name": "stdout",
          "text": [
            "\n",
            "Accuracy after dropping channel index:  25  is:  0.9864899974019226\n",
            "361/361 [==============================] - 1s 2ms/step\n"
          ]
        },
        {
          "output_type": "stream",
          "name": "stderr",
          "text": [
            "\r 20%|██        | 12/60 [00:30<02:02,  2.56s/it]"
          ]
        },
        {
          "output_type": "stream",
          "name": "stdout",
          "text": [
            "\n",
            "Accuracy after dropping channel index:  39  is:  0.9864899974019226\n",
            "361/361 [==============================] - 1s 2ms/step\n"
          ]
        },
        {
          "output_type": "stream",
          "name": "stderr",
          "text": [
            "\r 22%|██▏       | 13/60 [00:32<01:53,  2.42s/it]"
          ]
        },
        {
          "output_type": "stream",
          "name": "stdout",
          "text": [
            "\n",
            "Accuracy after dropping channel index:  41  is:  0.9864899974019226\n",
            "361/361 [==============================] - 1s 2ms/step\n"
          ]
        },
        {
          "output_type": "stream",
          "name": "stderr",
          "text": [
            "\r 23%|██▎       | 14/60 [00:34<01:50,  2.41s/it]"
          ]
        },
        {
          "output_type": "stream",
          "name": "stdout",
          "text": [
            "\n",
            "Accuracy after dropping channel index:  44  is:  0.9864899974019226\n",
            "361/361 [==============================] - 1s 3ms/step\n"
          ]
        },
        {
          "output_type": "stream",
          "name": "stderr",
          "text": [
            "\r 25%|██▌       | 15/60 [00:37<01:47,  2.40s/it]"
          ]
        },
        {
          "output_type": "stream",
          "name": "stdout",
          "text": [
            "\n",
            "Accuracy after dropping channel index:  45  is:  0.9864899974019226\n",
            "361/361 [==============================] - 1s 3ms/step\n"
          ]
        },
        {
          "output_type": "stream",
          "name": "stderr",
          "text": [
            "\r 27%|██▋       | 16/60 [00:41<02:07,  2.90s/it]"
          ]
        },
        {
          "output_type": "stream",
          "name": "stdout",
          "text": [
            "\n",
            "Accuracy after dropping channel index:  47  is:  0.9864899974019226\n",
            "361/361 [==============================] - 1s 2ms/step\n"
          ]
        },
        {
          "output_type": "stream",
          "name": "stderr",
          "text": [
            "\r 28%|██▊       | 17/60 [00:43<01:58,  2.76s/it]"
          ]
        },
        {
          "output_type": "stream",
          "name": "stdout",
          "text": [
            "\n",
            "Accuracy after dropping channel index:  48  is:  0.9864899974019226\n",
            "361/361 [==============================] - 1s 2ms/step\n"
          ]
        },
        {
          "output_type": "stream",
          "name": "stderr",
          "text": [
            "\r 30%|███       | 18/60 [00:45<01:47,  2.57s/it]"
          ]
        },
        {
          "output_type": "stream",
          "name": "stdout",
          "text": [
            "\n",
            "Accuracy after dropping channel index:  49  is:  0.9864899974019226\n",
            "361/361 [==============================] - 1s 2ms/step\n"
          ]
        },
        {
          "output_type": "stream",
          "name": "stderr",
          "text": [
            "\r 32%|███▏      | 19/60 [00:48<01:42,  2.51s/it]"
          ]
        },
        {
          "output_type": "stream",
          "name": "stdout",
          "text": [
            "\n",
            "Accuracy after dropping channel index:  50  is:  0.9864899974019226\n",
            "361/361 [==============================] - 1s 2ms/step\n"
          ]
        },
        {
          "output_type": "stream",
          "name": "stderr",
          "text": [
            "\r 33%|███▎      | 20/60 [00:50<01:39,  2.48s/it]"
          ]
        },
        {
          "output_type": "stream",
          "name": "stdout",
          "text": [
            "\n",
            "Accuracy after dropping channel index:  53  is:  0.9864899974019226\n",
            "361/361 [==============================] - 1s 3ms/step\n"
          ]
        },
        {
          "output_type": "stream",
          "name": "stderr",
          "text": [
            "\r 35%|███▌      | 21/60 [00:53<01:41,  2.59s/it]"
          ]
        },
        {
          "output_type": "stream",
          "name": "stdout",
          "text": [
            "\n",
            "Accuracy after dropping channel index:  55  is:  0.9864899974019226\n",
            "361/361 [==============================] - 1s 3ms/step\n"
          ]
        },
        {
          "output_type": "stream",
          "name": "stderr",
          "text": [
            "\r 37%|███▋      | 22/60 [00:55<01:36,  2.54s/it]"
          ]
        },
        {
          "output_type": "stream",
          "name": "stdout",
          "text": [
            "\n",
            "Accuracy after dropping channel index:  40  is:  0.9864899974019226\n",
            "361/361 [==============================] - 1s 2ms/step\n"
          ]
        },
        {
          "output_type": "stream",
          "name": "stderr",
          "text": [
            "\r 38%|███▊      | 23/60 [00:58<01:29,  2.43s/it]"
          ]
        },
        {
          "output_type": "stream",
          "name": "stdout",
          "text": [
            "\n",
            "Accuracy after dropping channel index:  24  is:  0.9864899974019226\n",
            "361/361 [==============================] - 1s 2ms/step\n"
          ]
        },
        {
          "output_type": "stream",
          "name": "stderr",
          "text": [
            "\r 40%|████      | 24/60 [01:00<01:27,  2.42s/it]"
          ]
        },
        {
          "output_type": "stream",
          "name": "stdout",
          "text": [
            "\n",
            "Accuracy after dropping channel index:  59  is:  0.9864899974019226\n",
            "361/361 [==============================] - 1s 2ms/step\n"
          ]
        },
        {
          "output_type": "stream",
          "name": "stderr",
          "text": [
            "\r 42%|████▏     | 25/60 [01:02<01:24,  2.41s/it]"
          ]
        },
        {
          "output_type": "stream",
          "name": "stdout",
          "text": [
            "\n",
            "Accuracy after dropping channel index:  9  is:  0.9864899974019226\n",
            "361/361 [==============================] - 1s 3ms/step\n"
          ]
        },
        {
          "output_type": "stream",
          "name": "stderr",
          "text": [
            "\r 43%|████▎     | 26/60 [01:06<01:34,  2.79s/it]"
          ]
        },
        {
          "output_type": "stream",
          "name": "stdout",
          "text": [
            "\n",
            "Accuracy after dropping channel index:  2  is:  0.9864899974019226\n",
            "361/361 [==============================] - 1s 2ms/step\n"
          ]
        },
        {
          "output_type": "stream",
          "name": "stderr",
          "text": [
            "\r 45%|████▌     | 27/60 [01:08<01:27,  2.65s/it]"
          ]
        },
        {
          "output_type": "stream",
          "name": "stdout",
          "text": [
            "\n",
            "Accuracy after dropping channel index:  12  is:  0.9864899974019226\n",
            "361/361 [==============================] - 1s 3ms/step\n"
          ]
        },
        {
          "output_type": "stream",
          "name": "stderr",
          "text": [
            "\r 47%|████▋     | 28/60 [01:11<01:21,  2.54s/it]"
          ]
        },
        {
          "output_type": "stream",
          "name": "stdout",
          "text": [
            "\n",
            "Accuracy after dropping channel index:  13  is:  0.9864899974019226\n",
            "361/361 [==============================] - 1s 2ms/step\n",
            "\n",
            "Accuracy after dropping channel index:  "
          ]
        },
        {
          "output_type": "stream",
          "name": "stderr",
          "text": [
            "\r 48%|████▊     | 29/60 [01:13<01:14,  2.42s/it]"
          ]
        },
        {
          "output_type": "stream",
          "name": "stdout",
          "text": [
            "17  is:  0.9864899974019226\n",
            "361/361 [==============================] - 1s 2ms/step\n"
          ]
        },
        {
          "output_type": "stream",
          "name": "stderr",
          "text": [
            "\r 50%|█████     | 30/60 [01:15<01:09,  2.33s/it]"
          ]
        },
        {
          "output_type": "stream",
          "name": "stdout",
          "text": [
            "\n",
            "Accuracy after dropping channel index:  14  is:  0.9864899974019226\n",
            "361/361 [==============================] - 1s 3ms/step\n"
          ]
        },
        {
          "output_type": "stream",
          "name": "stderr",
          "text": [
            "\r 52%|█████▏    | 31/60 [01:17<01:08,  2.34s/it]"
          ]
        },
        {
          "output_type": "stream",
          "name": "stdout",
          "text": [
            "\n",
            "Accuracy after dropping channel index:  15  is:  0.9864899974019226\n",
            "361/361 [==============================] - 1s 3ms/step\n"
          ]
        },
        {
          "output_type": "stream",
          "name": "stderr",
          "text": [
            "\r 53%|█████▎    | 32/60 [01:20<01:10,  2.53s/it]"
          ]
        },
        {
          "output_type": "stream",
          "name": "stdout",
          "text": [
            "\n",
            "Accuracy after dropping channel index:  23  is:  0.9864899974019226\n",
            "361/361 [==============================] - 1s 2ms/step\n"
          ]
        },
        {
          "output_type": "stream",
          "name": "stderr",
          "text": [
            "\r 55%|█████▌    | 33/60 [01:22<01:05,  2.43s/it]"
          ]
        },
        {
          "output_type": "stream",
          "name": "stdout",
          "text": [
            "\n",
            "Accuracy after dropping channel index:  6  is:  0.9864899974019226\n",
            "361/361 [==============================] - 1s 3ms/step\n"
          ]
        },
        {
          "output_type": "stream",
          "name": "stderr",
          "text": [
            "\r 57%|█████▋    | 34/60 [01:25<01:01,  2.37s/it]"
          ]
        },
        {
          "output_type": "stream",
          "name": "stdout",
          "text": [
            "\n",
            "Accuracy after dropping channel index:  51  is:  0.9864033948211657\n",
            "361/361 [==============================] - 1s 2ms/step\n"
          ]
        },
        {
          "output_type": "stream",
          "name": "stderr",
          "text": [
            "\r 58%|█████▊    | 35/60 [01:27<00:58,  2.32s/it]"
          ]
        },
        {
          "output_type": "stream",
          "name": "stdout",
          "text": [
            "\n",
            "Accuracy after dropping channel index:  32  is:  0.9864033948211657\n",
            "361/361 [==============================] - 1s 3ms/step\n"
          ]
        },
        {
          "output_type": "stream",
          "name": "stderr",
          "text": [
            "\r 60%|██████    | 36/60 [01:29<00:56,  2.36s/it]"
          ]
        },
        {
          "output_type": "stream",
          "name": "stdout",
          "text": [
            "\n",
            "Accuracy after dropping channel index:  22  is:  0.9863167922404088\n",
            "361/361 [==============================] - 1s 3ms/step\n"
          ]
        },
        {
          "output_type": "stream",
          "name": "stderr",
          "text": [
            "\r 62%|██████▏   | 37/60 [01:33<01:03,  2.76s/it]"
          ]
        },
        {
          "output_type": "stream",
          "name": "stdout",
          "text": [
            "\n",
            "Accuracy after dropping channel index:  21  is:  0.9865765999826794\n",
            "361/361 [==============================] - 1s 2ms/step\n"
          ]
        },
        {
          "output_type": "stream",
          "name": "stderr",
          "text": [
            "\r 63%|██████▎   | 38/60 [01:36<00:59,  2.69s/it]"
          ]
        },
        {
          "output_type": "stream",
          "name": "stdout",
          "text": [
            "\n",
            "Accuracy after dropping channel index:  20  is:  0.9864899974019226\n",
            "361/361 [==============================] - 1s 2ms/step\n"
          ]
        },
        {
          "output_type": "stream",
          "name": "stderr",
          "text": [
            "\r 65%|██████▌   | 39/60 [01:38<00:54,  2.59s/it]"
          ]
        },
        {
          "output_type": "stream",
          "name": "stdout",
          "text": [
            "\n",
            "Accuracy after dropping channel index:  19  is:  0.9860569844981381\n",
            "361/361 [==============================] - 1s 2ms/step\n"
          ]
        },
        {
          "output_type": "stream",
          "name": "stderr",
          "text": [
            "\r 67%|██████▋   | 40/60 [01:40<00:49,  2.49s/it]"
          ]
        },
        {
          "output_type": "stream",
          "name": "stdout",
          "text": [
            "\n",
            "Accuracy after dropping channel index:  43  is:  0.9857105741751104\n",
            "361/361 [==============================] - 1s 2ms/step\n"
          ]
        },
        {
          "output_type": "stream",
          "name": "stderr",
          "text": [
            "\r 68%|██████▊   | 41/60 [01:43<00:46,  2.47s/it]"
          ]
        },
        {
          "output_type": "stream",
          "name": "stdout",
          "text": [
            "\n",
            "Accuracy after dropping channel index:  58  is:  0.9853641638520828\n",
            "361/361 [==============================] - 1s 3ms/step\n"
          ]
        },
        {
          "output_type": "stream",
          "name": "stderr",
          "text": [
            "\r 70%|███████   | 42/60 [01:45<00:45,  2.52s/it]"
          ]
        },
        {
          "output_type": "stream",
          "name": "stdout",
          "text": [
            "\n",
            "Accuracy after dropping channel index:  3  is:  0.9819000606218066\n",
            "361/361 [==============================] - 1s 3ms/step\n"
          ]
        },
        {
          "output_type": "stream",
          "name": "stderr",
          "text": [
            "\r 72%|███████▏  | 43/60 [01:48<00:43,  2.57s/it]"
          ]
        },
        {
          "output_type": "stream",
          "name": "stdout",
          "text": [
            "\n",
            "Accuracy after dropping channel index:  42  is:  0.9765307006148783\n",
            "361/361 [==============================] - 1s 2ms/step\n"
          ]
        },
        {
          "output_type": "stream",
          "name": "stderr",
          "text": [
            "\r 73%|███████▎  | 44/60 [01:50<00:40,  2.51s/it]"
          ]
        },
        {
          "output_type": "stream",
          "name": "stdout",
          "text": [
            "\n",
            "Accuracy after dropping channel index:  1  is:  0.9750584567420109\n",
            "361/361 [==============================] - 1s 2ms/step\n"
          ]
        },
        {
          "output_type": "stream",
          "name": "stderr",
          "text": [
            "\r 75%|███████▌  | 45/60 [01:52<00:36,  2.40s/it]"
          ]
        },
        {
          "output_type": "stream",
          "name": "stdout",
          "text": [
            "\n",
            "Accuracy after dropping channel index:  29  is:  0.9575647354291158\n",
            "361/361 [==============================] - 1s 3ms/step\n"
          ]
        },
        {
          "output_type": "stream",
          "name": "stderr",
          "text": [
            "\r 77%|███████▋  | 46/60 [01:55<00:33,  2.39s/it]"
          ]
        },
        {
          "output_type": "stream",
          "name": "stdout",
          "text": [
            "\n",
            "Accuracy after dropping channel index:  16  is:  0.9520221702606738\n",
            "361/361 [==============================] - 1s 2ms/step\n"
          ]
        },
        {
          "output_type": "stream",
          "name": "stderr",
          "text": [
            "\r 78%|███████▊  | 47/60 [01:57<00:31,  2.40s/it]"
          ]
        },
        {
          "output_type": "stream",
          "name": "stdout",
          "text": [
            "\n",
            "Accuracy after dropping channel index:  56  is:  0.947172425738287\n",
            "361/361 [==============================] - 1s 3ms/step\n"
          ]
        },
        {
          "output_type": "stream",
          "name": "stderr",
          "text": [
            "WARNING:tensorflow:Compiled the loaded model, but the compiled metrics have yet to be built. `model.compile_metrics` will be empty until you train or evaluate the model.\n"
          ]
        },
        {
          "output_type": "stream",
          "name": "stdout",
          "text": [
            "\n",
            "Accuracy after dropping channel index:  46  is:  0.9209318437689443\n",
            "The accuracy drops at least 4.0%, saved the model\n"
          ]
        },
        {
          "output_type": "stream",
          "name": "stderr",
          "text": [
            "\r 78%|███████▊  | 47/60 [02:02<00:33,  2.61s/it]"
          ]
        },
        {
          "output_type": "stream",
          "name": "stdout",
          "text": [
            "Accuracy after dropping channel index:  46  is:  0.9209318437689443\n"
          ]
        },
        {
          "output_type": "stream",
          "name": "stderr",
          "text": [
            "\n"
          ]
        }
      ]
    },
    {
      "cell_type": "code",
      "source": [
        "\n",
        "original_model = model\n",
        "\n",
        "# Set the layer name\n",
        "layer_name = 'pool_3'\n",
        "\n",
        "# percentage accuracy drop\n",
        "epsilon = 10/100\n",
        "\n",
        "# Prune and save models\n",
        "saved_model = prune_and_save_models(original_model, layer_name, x_clean, y_clean, x_poisoned, y_poisoned, channels, epsilon, avg_activations)"
      ],
      "metadata": {
        "colab": {
          "base_uri": "https://localhost:8080/"
        },
        "id": "nxMLkJ_vmuLg",
        "outputId": "9ee35ad0-c8e2-46de-a4df-c48f057a3e31"
      },
      "execution_count": 11,
      "outputs": [
        {
          "output_type": "stream",
          "name": "stdout",
          "text": [
            "361/361 [==============================] - 2s 2ms/step\n",
            "\n",
            "Clean data accuracy:  0.9864899974019226\n"
          ]
        },
        {
          "output_type": "stream",
          "name": "stderr",
          "text": [
            "\r  0%|          | 0/60 [00:00<?, ?it/s]"
          ]
        },
        {
          "output_type": "stream",
          "name": "stdout",
          "text": [
            "361/361 [==============================] - 1s 4ms/step\n"
          ]
        },
        {
          "output_type": "stream",
          "name": "stderr",
          "text": [
            "\r  2%|▏         | 1/60 [00:03<03:37,  3.69s/it]"
          ]
        },
        {
          "output_type": "stream",
          "name": "stdout",
          "text": [
            "\n",
            "Accuracy after dropping channel index:  0  is:  0.9864899974019226\n",
            "361/361 [==============================] - 1s 2ms/step\n"
          ]
        },
        {
          "output_type": "stream",
          "name": "stderr",
          "text": [
            "\r  3%|▎         | 2/60 [00:06<02:57,  3.07s/it]"
          ]
        },
        {
          "output_type": "stream",
          "name": "stdout",
          "text": [
            "\n",
            "Accuracy after dropping channel index:  26  is:  0.9864899974019226\n",
            "361/361 [==============================] - 1s 2ms/step\n"
          ]
        },
        {
          "output_type": "stream",
          "name": "stderr",
          "text": [
            "\r  5%|▌         | 3/60 [00:08<02:37,  2.76s/it]"
          ]
        },
        {
          "output_type": "stream",
          "name": "stdout",
          "text": [
            "\n",
            "Accuracy after dropping channel index:  27  is:  0.9864899974019226\n",
            "361/361 [==============================] - 1s 2ms/step\n"
          ]
        },
        {
          "output_type": "stream",
          "name": "stderr",
          "text": [
            "\r  7%|▋         | 4/60 [00:10<02:23,  2.56s/it]"
          ]
        },
        {
          "output_type": "stream",
          "name": "stdout",
          "text": [
            "\n",
            "Accuracy after dropping channel index:  30  is:  0.9864899974019226\n",
            "361/361 [==============================] - 1s 2ms/step\n"
          ]
        },
        {
          "output_type": "stream",
          "name": "stderr",
          "text": [
            "\r  8%|▊         | 5/60 [00:13<02:18,  2.51s/it]"
          ]
        },
        {
          "output_type": "stream",
          "name": "stdout",
          "text": [
            "\n",
            "Accuracy after dropping channel index:  31  is:  0.9864899974019226\n",
            "361/361 [==============================] - 1s 3ms/step\n"
          ]
        },
        {
          "output_type": "stream",
          "name": "stderr",
          "text": [
            "\r 10%|█         | 6/60 [00:17<02:41,  2.99s/it]"
          ]
        },
        {
          "output_type": "stream",
          "name": "stdout",
          "text": [
            "\n",
            "Accuracy after dropping channel index:  33  is:  0.9864899974019226\n",
            "361/361 [==============================] - 1s 2ms/step\n"
          ]
        },
        {
          "output_type": "stream",
          "name": "stderr",
          "text": [
            "\r 12%|█▏        | 7/60 [00:19<02:30,  2.85s/it]"
          ]
        },
        {
          "output_type": "stream",
          "name": "stdout",
          "text": [
            "\n",
            "Accuracy after dropping channel index:  34  is:  0.9864899974019226\n",
            "361/361 [==============================] - 1s 2ms/step\n"
          ]
        },
        {
          "output_type": "stream",
          "name": "stderr",
          "text": [
            "\r 13%|█▎        | 8/60 [00:22<02:20,  2.70s/it]"
          ]
        },
        {
          "output_type": "stream",
          "name": "stdout",
          "text": [
            "\n",
            "Accuracy after dropping channel index:  36  is:  0.9864899974019226\n",
            "361/361 [==============================] - 1s 2ms/step\n"
          ]
        },
        {
          "output_type": "stream",
          "name": "stderr",
          "text": [
            "\r 15%|█▌        | 9/60 [00:24<02:09,  2.54s/it]"
          ]
        },
        {
          "output_type": "stream",
          "name": "stdout",
          "text": [
            "\n",
            "Accuracy after dropping channel index:  37  is:  0.9864899974019226\n",
            "361/361 [==============================] - 1s 2ms/step\n"
          ]
        },
        {
          "output_type": "stream",
          "name": "stderr",
          "text": [
            "\r 17%|█▋        | 10/60 [00:26<02:04,  2.49s/it]"
          ]
        },
        {
          "output_type": "stream",
          "name": "stdout",
          "text": [
            "\n",
            "Accuracy after dropping channel index:  38  is:  0.9864899974019226\n",
            "361/361 [==============================] - 1s 3ms/step\n"
          ]
        },
        {
          "output_type": "stream",
          "name": "stderr",
          "text": [
            "\r 18%|█▊        | 11/60 [00:29<02:05,  2.56s/it]"
          ]
        },
        {
          "output_type": "stream",
          "name": "stdout",
          "text": [
            "\n",
            "Accuracy after dropping channel index:  25  is:  0.9864899974019226\n",
            "361/361 [==============================] - 1s 3ms/step\n"
          ]
        },
        {
          "output_type": "stream",
          "name": "stderr",
          "text": [
            "\r 20%|██        | 12/60 [00:32<02:08,  2.67s/it]"
          ]
        },
        {
          "output_type": "stream",
          "name": "stdout",
          "text": [
            "\n",
            "Accuracy after dropping channel index:  39  is:  0.9864899974019226\n",
            "361/361 [==============================] - 1s 2ms/step\n"
          ]
        },
        {
          "output_type": "stream",
          "name": "stderr",
          "text": [
            "\r 22%|██▏       | 13/60 [00:34<02:01,  2.58s/it]"
          ]
        },
        {
          "output_type": "stream",
          "name": "stdout",
          "text": [
            "\n",
            "Accuracy after dropping channel index:  41  is:  0.9864899974019226\n",
            "361/361 [==============================] - 1s 2ms/step\n"
          ]
        },
        {
          "output_type": "stream",
          "name": "stderr",
          "text": [
            "\r 23%|██▎       | 14/60 [00:37<01:55,  2.52s/it]"
          ]
        },
        {
          "output_type": "stream",
          "name": "stdout",
          "text": [
            "\n",
            "Accuracy after dropping channel index:  44  is:  0.9864899974019226\n",
            "361/361 [==============================] - 1s 2ms/step\n"
          ]
        },
        {
          "output_type": "stream",
          "name": "stderr",
          "text": [
            "\r 25%|██▌       | 15/60 [00:39<01:51,  2.47s/it]"
          ]
        },
        {
          "output_type": "stream",
          "name": "stdout",
          "text": [
            "\n",
            "Accuracy after dropping channel index:  45  is:  0.9864899974019226\n",
            "361/361 [==============================] - 1s 2ms/step\n"
          ]
        },
        {
          "output_type": "stream",
          "name": "stderr",
          "text": [
            "\r 27%|██▋       | 16/60 [00:41<01:45,  2.39s/it]"
          ]
        },
        {
          "output_type": "stream",
          "name": "stdout",
          "text": [
            "\n",
            "Accuracy after dropping channel index:  47  is:  0.9864899974019226\n",
            "361/361 [==============================] - 1s 3ms/step\n"
          ]
        },
        {
          "output_type": "stream",
          "name": "stderr",
          "text": [
            "\r 28%|██▊       | 17/60 [00:44<01:50,  2.57s/it]"
          ]
        },
        {
          "output_type": "stream",
          "name": "stdout",
          "text": [
            "\n",
            "Accuracy after dropping channel index:  48  is:  0.9864899974019226\n",
            "361/361 [==============================] - 1s 2ms/step\n"
          ]
        },
        {
          "output_type": "stream",
          "name": "stderr",
          "text": [
            "\r 30%|███       | 18/60 [00:47<01:51,  2.66s/it]"
          ]
        },
        {
          "output_type": "stream",
          "name": "stdout",
          "text": [
            "\n",
            "Accuracy after dropping channel index:  49  is:  0.9864899974019226\n",
            "361/361 [==============================] - 1s 2ms/step\n"
          ]
        },
        {
          "output_type": "stream",
          "name": "stderr",
          "text": [
            "\r 32%|███▏      | 19/60 [00:49<01:42,  2.51s/it]"
          ]
        },
        {
          "output_type": "stream",
          "name": "stdout",
          "text": [
            "\n",
            "Accuracy after dropping channel index:  50  is:  0.9864899974019226\n",
            "361/361 [==============================] - 1s 2ms/step\n"
          ]
        },
        {
          "output_type": "stream",
          "name": "stderr",
          "text": [
            "\r 33%|███▎      | 20/60 [00:51<01:36,  2.40s/it]"
          ]
        },
        {
          "output_type": "stream",
          "name": "stdout",
          "text": [
            "\n",
            "Accuracy after dropping channel index:  53  is:  0.9864899974019226\n",
            "361/361 [==============================] - 1s 2ms/step\n"
          ]
        },
        {
          "output_type": "stream",
          "name": "stderr",
          "text": [
            "\r 35%|███▌      | 21/60 [00:54<01:31,  2.34s/it]"
          ]
        },
        {
          "output_type": "stream",
          "name": "stdout",
          "text": [
            "\n",
            "Accuracy after dropping channel index:  55  is:  0.9864899974019226\n",
            "361/361 [==============================] - 1s 3ms/step\n"
          ]
        },
        {
          "output_type": "stream",
          "name": "stderr",
          "text": [
            "\r 37%|███▋      | 22/60 [00:57<01:44,  2.74s/it]"
          ]
        },
        {
          "output_type": "stream",
          "name": "stdout",
          "text": [
            "\n",
            "Accuracy after dropping channel index:  40  is:  0.9864899974019226\n",
            "361/361 [==============================] - 1s 2ms/step\n"
          ]
        },
        {
          "output_type": "stream",
          "name": "stderr",
          "text": [
            "\r 38%|███▊      | 23/60 [01:00<01:41,  2.75s/it]"
          ]
        },
        {
          "output_type": "stream",
          "name": "stdout",
          "text": [
            "\n",
            "Accuracy after dropping channel index:  24  is:  0.9864899974019226\n",
            "361/361 [==============================] - 1s 2ms/step\n"
          ]
        },
        {
          "output_type": "stream",
          "name": "stderr",
          "text": [
            "\r 40%|████      | 24/60 [01:03<01:36,  2.68s/it]"
          ]
        },
        {
          "output_type": "stream",
          "name": "stdout",
          "text": [
            "\n",
            "Accuracy after dropping channel index:  59  is:  0.9864899974019226\n",
            "361/361 [==============================] - 1s 2ms/step\n"
          ]
        },
        {
          "output_type": "stream",
          "name": "stderr",
          "text": [
            "\r 42%|████▏     | 25/60 [01:05<01:30,  2.59s/it]"
          ]
        },
        {
          "output_type": "stream",
          "name": "stdout",
          "text": [
            "\n",
            "Accuracy after dropping channel index:  9  is:  0.9864899974019226\n",
            "361/361 [==============================] - 1s 2ms/step\n"
          ]
        },
        {
          "output_type": "stream",
          "name": "stderr",
          "text": [
            "\r 43%|████▎     | 26/60 [01:07<01:23,  2.46s/it]"
          ]
        },
        {
          "output_type": "stream",
          "name": "stdout",
          "text": [
            "\n",
            "Accuracy after dropping channel index:  2  is:  0.9864899974019226\n",
            "361/361 [==============================] - 1s 3ms/step\n"
          ]
        },
        {
          "output_type": "stream",
          "name": "stderr",
          "text": [
            "\r 45%|████▌     | 27/60 [01:11<01:32,  2.82s/it]"
          ]
        },
        {
          "output_type": "stream",
          "name": "stdout",
          "text": [
            "\n",
            "Accuracy after dropping channel index:  12  is:  0.9864899974019226\n",
            "361/361 [==============================] - 1s 2ms/step\n"
          ]
        },
        {
          "output_type": "stream",
          "name": "stderr",
          "text": [
            "\r 47%|████▋     | 28/60 [01:13<01:26,  2.71s/it]"
          ]
        },
        {
          "output_type": "stream",
          "name": "stdout",
          "text": [
            "\n",
            "Accuracy after dropping channel index:  13  is:  0.9864899974019226\n",
            "361/361 [==============================] - 1s 2ms/step\n"
          ]
        },
        {
          "output_type": "stream",
          "name": "stderr",
          "text": [
            "\r 48%|████▊     | 29/60 [01:16<01:21,  2.62s/it]"
          ]
        },
        {
          "output_type": "stream",
          "name": "stdout",
          "text": [
            "\n",
            "Accuracy after dropping channel index:  17  is:  0.9864899974019226\n",
            "361/361 [==============================] - 1s 2ms/step\n"
          ]
        },
        {
          "output_type": "stream",
          "name": "stderr",
          "text": [
            "\r 50%|█████     | 30/60 [01:18<01:17,  2.58s/it]"
          ]
        },
        {
          "output_type": "stream",
          "name": "stdout",
          "text": [
            "\n",
            "Accuracy after dropping channel index:  14  is:  0.9864899974019226\n",
            "361/361 [==============================] - 1s 2ms/step\n"
          ]
        },
        {
          "output_type": "stream",
          "name": "stderr",
          "text": [
            "\r 52%|█████▏    | 31/60 [01:20<01:12,  2.51s/it]"
          ]
        },
        {
          "output_type": "stream",
          "name": "stdout",
          "text": [
            "\n",
            "Accuracy after dropping channel index:  15  is:  0.9864899974019226\n",
            "361/361 [==============================] - 1s 3ms/step\n"
          ]
        },
        {
          "output_type": "stream",
          "name": "stderr",
          "text": [
            "\r 53%|█████▎    | 32/60 [01:24<01:20,  2.88s/it]"
          ]
        },
        {
          "output_type": "stream",
          "name": "stdout",
          "text": [
            "\n",
            "Accuracy after dropping channel index:  23  is:  0.9864899974019226\n",
            "361/361 [==============================] - 1s 2ms/step\n"
          ]
        },
        {
          "output_type": "stream",
          "name": "stderr",
          "text": [
            "\r 55%|█████▌    | 33/60 [01:27<01:15,  2.79s/it]"
          ]
        },
        {
          "output_type": "stream",
          "name": "stdout",
          "text": [
            "\n",
            "Accuracy after dropping channel index:  6  is:  0.9864899974019226\n",
            "361/361 [==============================] - 1s 2ms/step\n"
          ]
        },
        {
          "output_type": "stream",
          "name": "stderr",
          "text": [
            "\r 57%|█████▋    | 34/60 [01:29<01:09,  2.67s/it]"
          ]
        },
        {
          "output_type": "stream",
          "name": "stdout",
          "text": [
            "\n",
            "Accuracy after dropping channel index:  51  is:  0.9864033948211657\n",
            "361/361 [==============================] - 1s 2ms/step\n"
          ]
        },
        {
          "output_type": "stream",
          "name": "stderr",
          "text": [
            "\r 58%|█████▊    | 35/60 [01:31<01:02,  2.50s/it]"
          ]
        },
        {
          "output_type": "stream",
          "name": "stdout",
          "text": [
            "\n",
            "Accuracy after dropping channel index:  32  is:  0.9864033948211657\n",
            "361/361 [==============================] - 1s 2ms/step\n"
          ]
        },
        {
          "output_type": "stream",
          "name": "stderr",
          "text": [
            "\r 60%|██████    | 36/60 [01:34<01:00,  2.50s/it]"
          ]
        },
        {
          "output_type": "stream",
          "name": "stdout",
          "text": [
            "\n",
            "Accuracy after dropping channel index:  22  is:  0.9863167922404088\n",
            "361/361 [==============================] - 1s 3ms/step\n"
          ]
        },
        {
          "output_type": "stream",
          "name": "stderr",
          "text": [
            "\r 62%|██████▏   | 37/60 [01:37<01:05,  2.86s/it]"
          ]
        },
        {
          "output_type": "stream",
          "name": "stdout",
          "text": [
            "\n",
            "Accuracy after dropping channel index:  21  is:  0.9865765999826794\n",
            "361/361 [==============================] - 1s 2ms/step\n"
          ]
        },
        {
          "output_type": "stream",
          "name": "stderr",
          "text": [
            "\r 63%|██████▎   | 38/60 [01:40<00:59,  2.72s/it]"
          ]
        },
        {
          "output_type": "stream",
          "name": "stdout",
          "text": [
            "\n",
            "Accuracy after dropping channel index:  20  is:  0.9864899974019226\n",
            "361/361 [==============================] - 1s 2ms/step\n"
          ]
        },
        {
          "output_type": "stream",
          "name": "stderr",
          "text": [
            "\r 65%|██████▌   | 39/60 [01:42<00:54,  2.62s/it]"
          ]
        },
        {
          "output_type": "stream",
          "name": "stdout",
          "text": [
            "\n",
            "Accuracy after dropping channel index:  19  is:  0.9860569844981381\n",
            "361/361 [==============================] - 1s 2ms/step\n"
          ]
        },
        {
          "output_type": "stream",
          "name": "stderr",
          "text": [
            "\r 67%|██████▋   | 40/60 [01:44<00:49,  2.49s/it]"
          ]
        },
        {
          "output_type": "stream",
          "name": "stdout",
          "text": [
            "\n",
            "Accuracy after dropping channel index:  43  is:  0.9857105741751104\n",
            "361/361 [==============================] - 1s 2ms/step\n"
          ]
        },
        {
          "output_type": "stream",
          "name": "stderr",
          "text": [
            "\r 68%|██████▊   | 41/60 [01:47<00:46,  2.45s/it]"
          ]
        },
        {
          "output_type": "stream",
          "name": "stdout",
          "text": [
            "\n",
            "Accuracy after dropping channel index:  58  is:  0.9853641638520828\n",
            "361/361 [==============================] - 1s 3ms/step\n"
          ]
        },
        {
          "output_type": "stream",
          "name": "stderr",
          "text": [
            "\r 70%|███████   | 42/60 [01:51<00:51,  2.85s/it]"
          ]
        },
        {
          "output_type": "stream",
          "name": "stdout",
          "text": [
            "\n",
            "Accuracy after dropping channel index:  3  is:  0.9819000606218066\n",
            "361/361 [==============================] - 1s 2ms/step\n"
          ]
        },
        {
          "output_type": "stream",
          "name": "stderr",
          "text": [
            "\r 72%|███████▏  | 43/60 [01:53<00:45,  2.70s/it]"
          ]
        },
        {
          "output_type": "stream",
          "name": "stdout",
          "text": [
            "\n",
            "Accuracy after dropping channel index:  42  is:  0.9765307006148783\n",
            "361/361 [==============================] - 1s 2ms/step\n"
          ]
        },
        {
          "output_type": "stream",
          "name": "stderr",
          "text": [
            "\r 73%|███████▎  | 44/60 [01:55<00:41,  2.60s/it]"
          ]
        },
        {
          "output_type": "stream",
          "name": "stdout",
          "text": [
            "\n",
            "Accuracy after dropping channel index:  1  is:  0.9750584567420109\n",
            "361/361 [==============================] - 1s 2ms/step\n"
          ]
        },
        {
          "output_type": "stream",
          "name": "stderr",
          "text": [
            "\r 75%|███████▌  | 45/60 [01:58<00:37,  2.53s/it]"
          ]
        },
        {
          "output_type": "stream",
          "name": "stdout",
          "text": [
            "\n",
            "Accuracy after dropping channel index:  29  is:  0.9575647354291158\n",
            "361/361 [==============================] - 1s 2ms/step\n"
          ]
        },
        {
          "output_type": "stream",
          "name": "stderr",
          "text": [
            "\r 77%|███████▋  | 46/60 [02:00<00:33,  2.41s/it]"
          ]
        },
        {
          "output_type": "stream",
          "name": "stdout",
          "text": [
            "\n",
            "Accuracy after dropping channel index:  16  is:  0.9520221702606738\n",
            "361/361 [==============================] - 1s 3ms/step\n"
          ]
        },
        {
          "output_type": "stream",
          "name": "stderr",
          "text": [
            "\r 78%|███████▊  | 47/60 [02:02<00:31,  2.44s/it]"
          ]
        },
        {
          "output_type": "stream",
          "name": "stdout",
          "text": [
            "\n",
            "Accuracy after dropping channel index:  56  is:  0.947172425738287\n",
            "361/361 [==============================] - 1s 3ms/step\n"
          ]
        },
        {
          "output_type": "stream",
          "name": "stderr",
          "text": [
            "\r 80%|████████  | 48/60 [02:05<00:31,  2.63s/it]"
          ]
        },
        {
          "output_type": "stream",
          "name": "stdout",
          "text": [
            "\n",
            "Accuracy after dropping channel index:  46  is:  0.9209318437689443\n",
            "361/361 [==============================] - 1s 2ms/step\n"
          ]
        },
        {
          "output_type": "stream",
          "name": "stderr",
          "text": [
            "\r 82%|████████▏ | 49/60 [02:08<00:28,  2.58s/it]"
          ]
        },
        {
          "output_type": "stream",
          "name": "stdout",
          "text": [
            "\n",
            "Accuracy after dropping channel index:  5  is:  0.9149562656967177\n",
            "361/361 [==============================] - 1s 2ms/step\n"
          ]
        },
        {
          "output_type": "stream",
          "name": "stderr",
          "text": [
            "\r 83%|████████▎ | 50/60 [02:10<00:24,  2.45s/it]"
          ]
        },
        {
          "output_type": "stream",
          "name": "stdout",
          "text": [
            "\n",
            "Accuracy after dropping channel index:  8  is:  0.9101931237550879\n",
            "361/361 [==============================] - 1s 2ms/step\n"
          ]
        },
        {
          "output_type": "stream",
          "name": "stderr",
          "text": [
            "\r 85%|████████▌ | 51/60 [02:12<00:21,  2.43s/it]"
          ]
        },
        {
          "output_type": "stream",
          "name": "stdout",
          "text": [
            "\n",
            "Accuracy after dropping channel index:  11  is:  0.8917467740538668\n",
            "361/361 [==============================] - 1s 2ms/step\n"
          ]
        },
        {
          "output_type": "stream",
          "name": "stderr",
          "text": [
            "WARNING:tensorflow:Compiled the loaded model, but the compiled metrics have yet to be built. `model.compile_metrics` will be empty until you train or evaluate the model.\n"
          ]
        },
        {
          "output_type": "stream",
          "name": "stdout",
          "text": [
            "\n",
            "Accuracy after dropping channel index:  54  is:  0.8443751623798389\n",
            "The accuracy drops at least 10.0%, saved the model\n"
          ]
        },
        {
          "output_type": "stream",
          "name": "stderr",
          "text": [
            "\r 85%|████████▌ | 51/60 [02:17<00:24,  2.69s/it]"
          ]
        },
        {
          "output_type": "stream",
          "name": "stdout",
          "text": [
            "Accuracy after dropping channel index:  54  is:  0.8443751623798389\n"
          ]
        },
        {
          "output_type": "stream",
          "name": "stderr",
          "text": [
            "\n"
          ]
        }
      ]
    },
    {
      "cell_type": "code",
      "source": [
        "import matplotlib.pyplot as plt\n",
        "\n",
        "# Index and Accuracy data\n",
        "index = [1, 2, 3, 4, 5, 6, 7, 8, 9, 10, 11, 12, 13, 14, 15, 16, 17, 18, 19, 20,\n",
        "         21, 22, 23, 24, 25, 26, 27, 28, 29, 30, 31, 32, 33, 34, 35, 36, 37, 38, 39, 40,\n",
        "         41, 42, 43, 44, 45, 46, 47, 48, 49, 50, 51, 52, 53]\n",
        "\n",
        "accuracy = [ 0.9865, 0.9865, 0.9865, 0.9865, 0.9865, 0.9865, 0.9865, 0.9865,\n",
        "             0.9865, 0.9865, 0.9865, 0.9865, 0.9865, 0.9865, 0.9865, 0.9865, 0.9865, 0.9865,\n",
        "             0.9865, 0.9865, 0.9865, 0.9865, 0.9865, 0.9865, 0.9865, 0.9865, 0.9865, 0.9865,\n",
        "             0.9865, 0.9865, 0.9865, 0.9865, 0.9865, 0.9865, 0.9864, 0.9864, 0.9863, 0.9866,\n",
        "             0.9865, 0.9861, 0.9857, 0.9854, 0.9819, 0.9765, 0.9751, 0.9576, 0.952, 0.9472,\n",
        "             0.9209, 0.915, 0.9102, 0.8917, 0.8444]\n",
        "\n",
        "# Create the plot\n",
        "plt.figure(figsize=(10, 6))\n",
        "plt.plot(index, accuracy, marker='o', linestyle='-', color='b')\n",
        "plt.title('Number of channels dropped vs Accuracy')\n",
        "plt.xlabel('Number of channels dropped')\n",
        "plt.ylabel('Accuracy')\n",
        "plt.grid(True)\n",
        "plt.show()\n"
      ],
      "metadata": {
        "colab": {
          "base_uri": "https://localhost:8080/",
          "height": 573
        },
        "id": "OMbyuunZLpkQ",
        "outputId": "ea7b6978-e535-4dde-9420-b2e7766d4f65"
      },
      "execution_count": 81,
      "outputs": [
        {
          "output_type": "display_data",
          "data": {
            "text/plain": [
              "<Figure size 1000x600 with 1 Axes>"
            ],
            "image/png": "[encoded data removed]"
          },
          "metadata": {}
        }
      ]
    },
    {
      "cell_type": "markdown",
      "source": [
        "| Number of Channels | Accuracy                   |\n",
        "|-------------------- |--------------------------- |\n",
        "| Original            | 0.9865                     |\n",
        "| After dropping 0    | 0.9865                     |\n",
        "| After dropping 26   | 0.9865                     |\n",
        "| After dropping 27   | 0.9865                     |\n",
        "| After dropping 30   | 0.9865                     |\n",
        "| After dropping 31   | 0.9865                     |\n",
        "| After dropping 33   | 0.9865                     |\n",
        "| After dropping 34   | 0.9865                     |\n",
        "| After dropping 36   | 0.9865                     |\n",
        "| After dropping 37   | 0.9865                     |\n",
        "| After dropping 38   | 0.9865                     |\n",
        "| After dropping 25   | 0.9865                     |\n",
        "| After dropping 39   | 0.9865                     |\n",
        "| After dropping 41   | 0.9865                     |\n",
        "| After dropping 44   | 0.9865                     |\n",
        "| After dropping 45   | 0.9865                     |\n",
        "| After dropping 47   | 0.9865                     |\n",
        "| After dropping 48   | 0.9865                     |\n",
        "| After dropping 49   | 0.9865                     |\n",
        "| After dropping 50   | 0.9865                     |\n",
        "| After dropping 53   | 0.9865                     |\n",
        "| After dropping 55   | 0.9865                     |\n",
        "| After dropping 40   | 0.9865                     |\n",
        "| After dropping 24   | 0.9865                     |\n",
        "| After dropping 59   | 0.9865                     |\n",
        "| After dropping 9    | 0.9865                     |\n",
        "| After dropping 2    | 0.9865                     |\n",
        "| After dropping 12   | 0.9865                     |\n",
        "| After dropping 13   | 0.9865                     |\n",
        "| After dropping 17   | 0.9865                     |\n",
        "| After dropping 14   | 0.9865                     |\n",
        "| After dropping 15   | 0.9865                     |\n",
        "| After dropping 23   | 0.9865                     |\n",
        "| After dropping 6    | 0.9865                     |\n",
        "| After dropping 51   | 0.9864                     |\n",
        "| After dropping 32   | 0.9864                     |\n",
        "| After dropping 22   | 0.9863                     |\n",
        "| After dropping 21   | 0.9866                     |\n",
        "| After dropping 20   | 0.9865                     |\n",
        "| After dropping 19   | 0.9861                     |\n",
        "| After dropping 43   | 0.9857                     |\n",
        "| After dropping 58   | 0.9854                     |\n",
        "| After dropping 3    | 0.9819                     |\n",
        "| After dropping 42   | 0.9765                     |\n",
        "| After dropping 1    | 0.9751                     |\n",
        "| After dropping 29   | 0.9576                     |\n",
        "| After dropping 16   | 0.9520                     |\n",
        "| After dropping 56   | 0.9472                     |\n",
        "| After dropping 46   | 0.9209                     |\n",
        "| After dropping 5    | 0.9150                     |\n",
        "| After dropping 8    | 0.9102                     |\n",
        "| After dropping 11   | 0.8917                     |\n",
        "| After dropping 54   | 0.8444 (significant drop) |\n"
      ],
      "metadata": {
        "id": "UiJ6YeuOLczp"
      }
    },
    {
      "cell_type": "code",
      "source": [
        "pruned_model_path_2 = '/content/pruned_models/2.0'\n",
        "pruned_model_path_4 = '/content/pruned_models/4.0'\n",
        "pruned_model_path_10 = '/content/pruned_models/10.0'"
      ],
      "metadata": {
        "id": "s6Em8FOjmzf_"
      },
      "execution_count": 12,
      "outputs": []
    },
    {
      "cell_type": "code",
      "source": [
        "import tensorflow as tf\n",
        "from tensorflow.keras.layers import Input, Dense, Concatenate\n",
        "\n",
        "class GoodModel(tf.keras.Model):\n",
        "    def __init__(self, bad_model, pruned_model):\n",
        "        super(GoodModel, self).__init__()\n",
        "\n",
        "        # Example model architectures for B and B' (replace these with your actual model architectures)\n",
        "        self.bad_model = bad_model\n",
        "        self.pruned_model = pruned_model\n",
        "\n",
        "    def call(self, data):\n",
        "        # Your original forward pass logic (if needed)\n",
        "        return data\n",
        "\n",
        "\n",
        "    def predict_custom(self, data):\n",
        "        pred = []\n",
        "        y = np.argmax(self.bad_model(data), axis=1)\n",
        "        y_prime = np.argmax(self.pruned_model(data), axis=1)\n",
        "        pred = np.zeros(data.shape[0])\n",
        "        for i in range(data.shape[0]):\n",
        "            if y[i]==y_prime[i]:\n",
        "                pred[i] = y[i]\n",
        "            else:\n",
        "                pred[i] = 1283\n",
        "        return pred\n"
      ],
      "metadata": {
        "id": "XGMZLUmtVw6N"
      },
      "execution_count": 46,
      "outputs": []
    },
    {
      "cell_type": "code",
      "source": [
        "# Example usage:\n",
        "N = num_unique_labels  # Assuming N+1 is the number of classes for the special case\n",
        "\n",
        "bad_model = model\n",
        "\n",
        "pruned_model_2 = keras.models.load_model(pruned_model_path_2)\n",
        "\n",
        "# Create an instance of your custom model\n",
        "good_model_2 = GoodModel(bad_model, pruned_model_2)\n"
      ],
      "metadata": {
        "colab": {
          "base_uri": "https://localhost:8080/"
        },
        "id": "zzjan2dxCQ5K",
        "outputId": "d4e6a638-4c2c-400d-de4c-5347e60c12b4"
      },
      "execution_count": 69,
      "outputs": [
        {
          "output_type": "stream",
          "name": "stderr",
          "text": [
            "WARNING:tensorflow:No training configuration found in save file, so the model was *not* compiled. Compile it manually.\n"
          ]
        }
      ]
    },
    {
      "cell_type": "code",
      "source": [
        "# Get the input shape of the pruned_model_2\n",
        "input_shape = bad_model.input_shape\n",
        "good_model_2.build(input_shape)\n",
        "good_model_2.summary()"
      ],
      "metadata": {
        "colab": {
          "base_uri": "https://localhost:8080/"
        },
        "id": "etvW7IdJcNNG",
        "outputId": "2a56c6d6-4240-4a7a-b836-3a1f71eec9ba"
      },
      "execution_count": 17,
      "outputs": [
        {
          "output_type": "stream",
          "name": "stdout",
          "text": [
            "Model: \"good_model\"\n",
            "_________________________________________________________________\n",
            " Layer (type)                Output Shape              Param #   \n",
            "=================================================================\n",
            " model_1 (Functional)        (None, 1283)              601643    \n",
            "                                                                 \n",
            " model_1 (Functional)        (None, 1283)              601643    \n",
            "                                                                 \n",
            "=================================================================\n",
            "Total params: 1203286 (4.59 MB)\n",
            "Trainable params: 1203286 (4.59 MB)\n",
            "Non-trainable params: 0 (0.00 Byte)\n",
            "_________________________________________________________________\n"
          ]
        }
      ]
    },
    {
      "cell_type": "code",
      "source": [
        "# Load data\n",
        "x_test, y_test = load_data(test_data_filename)\n",
        "x_poisoned_test, y_poisioned_test = load_data(test_bad_data_filename)"
      ],
      "metadata": {
        "id": "8etrMCpfevJH"
      },
      "execution_count": 18,
      "outputs": []
    },
    {
      "cell_type": "code",
      "source": [
        "# Use predict to get predicted probabilities\n",
        "good_predictions = good_model_2.predict_custom(x_test)\n",
        "\n",
        "# Calculate and print the clean accuracy\n",
        "good_accuracy_2 = np.mean(good_predictions == y_test)\n",
        "print(\"\\nClean Data Accuracy: with Good model with 2% pruned channels\", good_accuracy_2 * 100)\n"
      ],
      "metadata": {
        "colab": {
          "base_uri": "https://localhost:8080/"
        },
        "id": "pavjZhXIglSz",
        "outputId": "cdd86c81-3283-4a7b-afb3-0e13a8fd819f"
      },
      "execution_count": 48,
      "outputs": [
        {
          "output_type": "stream",
          "name": "stdout",
          "text": [
            "\n",
            "Clean Data Accuracy: with Good model with 2% pruned channels 95.74434918160561\n"
          ]
        }
      ]
    },
    {
      "cell_type": "code",
      "source": [
        "\n",
        "# Use predict to get predicted probabilities\n",
        "pruned_predictions = pruned_model_2.predict(x_test)\n",
        "\n",
        "# Convert predicted probabilities to class labels\n",
        "pruned_predictions_labels = np.argmax(pruned_predictions, axis=1)\n",
        "\n",
        "# Calculate and print the clean accuracy\n",
        "pruned_accuracy_2 = np.mean(pruned_predictions_labels == y_test)\n",
        "print(\"\\nClean Data Accuracy: with 2% pruned channels\", pruned_accuracy_2 * 100)\n"
      ],
      "metadata": {
        "colab": {
          "base_uri": "https://localhost:8080/"
        },
        "id": "MPRRnU_PlMnV",
        "outputId": "cd40f2a5-5707-4f3c-e6a6-717f16afdf3c"
      },
      "execution_count": 49,
      "outputs": [
        {
          "output_type": "stream",
          "name": "stdout",
          "text": [
            "401/401 [==============================] - 1s 2ms/step\n",
            "\n",
            "Clean Data Accuracy: with 2% pruned channels 95.90023382696803\n"
          ]
        }
      ]
    },
    {
      "cell_type": "code",
      "source": [
        "\n",
        "# Evaluate the model on poisoned data\n",
        "# Use predict to get predicted probabilities\n",
        "poisioned_predictions = good_model_2.predict_custom(x_poisoned_test)\n",
        "\n",
        "# Calculate and print the clean accuracy\n",
        "poisioned_accuracy = np.mean(poisioned_predictions == y_poisioned_test)\n",
        "print(\"Posioned Data Accuracy on good_model_2 or attack success rate:\", poisioned_accuracy * 100)\n"
      ],
      "metadata": {
        "colab": {
          "base_uri": "https://localhost:8080/"
        },
        "id": "aS9XhUeZlq6x",
        "outputId": "bd9cda4d-ff11-4379-b1c6-2532899fb9a1"
      },
      "execution_count": 70,
      "outputs": [
        {
          "output_type": "stream",
          "name": "stdout",
          "text": [
            "Posioned Data Accuracy on good_model_2 or attack success rate: 100.0\n"
          ]
        }
      ]
    },
    {
      "cell_type": "code",
      "source": [
        "\n",
        "# Evaluate the model on poisoned data\n",
        "# Use predict to get predicted probabilities\n",
        "poisioned_predictions = pruned_model_2.predict(x_poisoned_test)\n",
        "\n",
        "# Convert predicted probabilities to class labels\n",
        "poisioned_predictions_labels = np.argmax(poisioned_predictions, axis=1)\n",
        "\n",
        "# Calculate and print the clean accuracy\n",
        "poisioned_accuracy = np.mean(poisioned_predictions_labels == y_poisioned_test)\n",
        "print(\"Posioned Data Accuracy with pruned_model_2 or attack success rate:\", poisioned_accuracy * 100)"
      ],
      "metadata": {
        "colab": {
          "base_uri": "https://localhost:8080/"
        },
        "id": "HxbP9YylmLeh",
        "outputId": "b8a1f171-f3b9-40f6-de96-05c663615108"
      },
      "execution_count": 51,
      "outputs": [
        {
          "output_type": "stream",
          "name": "stdout",
          "text": [
            "401/401 [==============================] - 1s 2ms/step\n",
            "Posioned Data Accuracy with pruned_model_2 or attack success rate: 100.0\n"
          ]
        }
      ]
    },
    {
      "cell_type": "code",
      "source": [
        "del pruned_model_2, good_model_2"
      ],
      "metadata": {
        "id": "emd2YC7jmeP4"
      },
      "execution_count": 52,
      "outputs": []
    },
    {
      "cell_type": "code",
      "source": [
        "# Example usage:\n",
        "N = num_unique_labels  # Assuming N+1 is the number of classes for the special case\n",
        "\n",
        "bad_model = model\n",
        "\n",
        "pruned_model_4 = keras.models.load_model(pruned_model_path_4)\n",
        "\n",
        "# Create an instance of your custom model\n",
        "good_model_4 = GoodModel(bad_model, pruned_model_4)\n"
      ],
      "metadata": {
        "colab": {
          "base_uri": "https://localhost:8080/"
        },
        "id": "283hYjefmtcY",
        "outputId": "8e9747ca-6dc3-498c-d62f-59ed68a618a0"
      },
      "execution_count": 66,
      "outputs": [
        {
          "output_type": "stream",
          "name": "stderr",
          "text": [
            "WARNING:tensorflow:No training configuration found in save file, so the model was *not* compiled. Compile it manually.\n"
          ]
        }
      ]
    },
    {
      "cell_type": "code",
      "source": [
        "# Use predict to get predicted probabilities\n",
        "good_predictions = good_model_4.predict_custom(x_test)\n",
        "\n",
        "# Calculate and print the clean accuracy\n",
        "good_accuracy_2 = np.mean(good_predictions == y_test)\n",
        "print(\"\\nClean Data Accuracy: with Good model with 4% pruned channels\", good_accuracy_2 * 100)\n"
      ],
      "metadata": {
        "id": "TCBh7LqCoBSR",
        "colab": {
          "base_uri": "https://localhost:8080/"
        },
        "outputId": "56fb670c-39a1-4237-d671-ed4ca60c7b9a"
      },
      "execution_count": 54,
      "outputs": [
        {
          "output_type": "stream",
          "name": "stdout",
          "text": [
            "\n",
            "Clean Data Accuracy: with Good model with 4% pruned channels 92.1278254091972\n"
          ]
        }
      ]
    },
    {
      "cell_type": "code",
      "source": [
        "\n",
        "# Use predict to get predicted probabilities\n",
        "pruned_predictions = pruned_model_4.predict(x_test)\n",
        "\n",
        "# Convert predicted probabilities to class labels\n",
        "pruned_predictions_labels = np.argmax(pruned_predictions, axis=1)\n",
        "\n",
        "# Calculate and print the clean accuracy\n",
        "pruned_accuracy_2 = np.mean(pruned_predictions_labels == y_test)\n",
        "print(\"\\nClean Data Accuracy: with 4% pruned channels\", pruned_accuracy_2 * 100)\n"
      ],
      "metadata": {
        "colab": {
          "base_uri": "https://localhost:8080/"
        },
        "id": "FK6d72Bdm0Hu",
        "outputId": "cd012ced-6c22-4966-e909-836377e7adcf"
      },
      "execution_count": 55,
      "outputs": [
        {
          "output_type": "stream",
          "name": "stdout",
          "text": [
            "401/401 [==============================] - 1s 2ms/step\n",
            "\n",
            "Clean Data Accuracy: with 4% pruned channels 92.29150428682775\n"
          ]
        }
      ]
    },
    {
      "cell_type": "code",
      "source": [
        "\n",
        "# Evaluate the model on poisoned data\n",
        "# Use predict to get predicted probabilities\n",
        "poisioned_predictions = good_model_4.predict_custom(x_poisoned_test)\n",
        "\n",
        "# Calculate and print the clean accuracy\n",
        "poisioned_accuracy = np.mean(poisioned_predictions == y_poisioned_test)\n",
        "print(\"Posioned Data Accuracy on good_model_4 or attack success rate:: \", poisioned_accuracy * 100)\n",
        "\n",
        "\n"
      ],
      "metadata": {
        "colab": {
          "base_uri": "https://localhost:8080/"
        },
        "id": "Ssm2gkcwm7WU",
        "outputId": "8a9ac54e-e034-43a1-99a4-e2dd68780cbb"
      },
      "execution_count": 67,
      "outputs": [
        {
          "output_type": "stream",
          "name": "stdout",
          "text": [
            "Posioned Data Accuracy on good_model_4 or attack success rate::  99.98441153546376\n"
          ]
        }
      ]
    },
    {
      "cell_type": "code",
      "source": [
        "\n",
        "# Evaluate the model on poisoned data\n",
        "# Use predict to get predicted probabilities\n",
        "poisioned_predictions = pruned_model_4.predict(x_poisoned_test)\n",
        "\n",
        "# Convert predicted probabilities to class labels\n",
        "poisioned_predictions_labels = np.argmax(poisioned_predictions, axis=1)\n",
        "\n",
        "# Calculate and print the clean accuracy\n",
        "poisioned_accuracy = np.mean(poisioned_predictions_labels == y_poisioned_test)\n",
        "print(\"Posioned Data Accuracy with pruned_model_4 or attack success rate:\", poisioned_accuracy * 100)"
      ],
      "metadata": {
        "id": "d2cVY6Snnvmz",
        "colab": {
          "base_uri": "https://localhost:8080/"
        },
        "outputId": "5039679c-9182-4f33-ab38-4ae0ea927232"
      },
      "execution_count": 57,
      "outputs": [
        {
          "output_type": "stream",
          "name": "stdout",
          "text": [
            "401/401 [==============================] - 1s 2ms/step\n",
            "Posioned Data Accuracy with pruned_model_4 or attack success rate: 99.98441153546376\n"
          ]
        }
      ]
    },
    {
      "cell_type": "code",
      "source": [
        "del pruned_model_4, good_model_4"
      ],
      "metadata": {
        "id": "h_AbqLg2F6ZS"
      },
      "execution_count": 58,
      "outputs": []
    },
    {
      "cell_type": "code",
      "source": [
        "# Example usage:\n",
        "N = num_unique_labels  # Assuming N+1 is the number of classes for the special case\n",
        "\n",
        "bad_model = model\n",
        "\n",
        "pruned_model_10 = keras.models.load_model(pruned_model_path_10)\n",
        "\n",
        "# Create an instance of your custom model\n",
        "good_model_10 = GoodModel(bad_model, pruned_model_10)\n"
      ],
      "metadata": {
        "colab": {
          "base_uri": "https://localhost:8080/"
        },
        "id": "Z1GvPWlSGA0x",
        "outputId": "5f380de1-47c3-4736-abc7-fd7b1bbb90d7"
      },
      "execution_count": 59,
      "outputs": [
        {
          "output_type": "stream",
          "name": "stderr",
          "text": [
            "WARNING:tensorflow:No training configuration found in save file, so the model was *not* compiled. Compile it manually.\n"
          ]
        }
      ]
    },
    {
      "cell_type": "code",
      "source": [
        "# Use predict to get predicted probabilities\n",
        "good_predictions = good_model_10.predict_custom(x_test)\n",
        "\n",
        "# Calculate and print the clean accuracy\n",
        "good_accuracy_2 = np.mean(good_predictions == y_test)\n",
        "print(\"\\nClean Data Accuracy: with Good model with 10% pruned channels\", good_accuracy_2 * 100)\n"
      ],
      "metadata": {
        "colab": {
          "base_uri": "https://localhost:8080/"
        },
        "id": "iMUEN93aGF78",
        "outputId": "f184560b-6da6-4b87-ebfa-d547de79bdb5"
      },
      "execution_count": 60,
      "outputs": [
        {
          "output_type": "stream",
          "name": "stdout",
          "text": [
            "\n",
            "Clean Data Accuracy: with Good model with 10% pruned channels 84.3335931410756\n"
          ]
        }
      ]
    },
    {
      "cell_type": "code",
      "source": [
        "\n",
        "# Use predict to get predicted probabilities\n",
        "pruned_predictions = pruned_model_10.predict(x_test)\n",
        "\n",
        "# Convert predicted probabilities to class labels\n",
        "pruned_predictions_labels = np.argmax(pruned_predictions, axis=1)\n",
        "\n",
        "# Calculate and print the clean accuracy\n",
        "pruned_accuracy_2 = np.mean(pruned_predictions_labels == y_test)\n",
        "print(\"\\nClean Data Accuracy: with 10% pruned channels\", pruned_accuracy_2 * 100)\n"
      ],
      "metadata": {
        "colab": {
          "base_uri": "https://localhost:8080/"
        },
        "id": "IMez4krZGJnk",
        "outputId": "544cb8da-2c83-462b-b320-4562a1ebc836"
      },
      "execution_count": 61,
      "outputs": [
        {
          "output_type": "stream",
          "name": "stdout",
          "text": [
            "401/401 [==============================] - 1s 3ms/step\n",
            "\n",
            "Clean Data Accuracy: with 10% pruned channels 84.54403741231489\n"
          ]
        }
      ]
    },
    {
      "cell_type": "code",
      "source": [
        "\n",
        "# Evaluate the model on poisoned data\n",
        "# Use predict to get predicted probabilities\n",
        "poisioned_predictions = good_model_10.predict_custom(x_poisoned_test)\n",
        "\n",
        "# Calculate and print the clean accuracy\n",
        "poisioned_accuracy = np.mean(poisioned_predictions == y_poisioned_test)\n",
        "print(\"Posioned Data Accuracy on good_model_10 or attack success rate::\", poisioned_accuracy * 100)\n",
        "\n"
      ],
      "metadata": {
        "colab": {
          "base_uri": "https://localhost:8080/"
        },
        "id": "0uab1cXlGNtV",
        "outputId": "10d3c283-b544-4743-c20a-0f0171d14607"
      },
      "execution_count": 64,
      "outputs": [
        {
          "output_type": "stream",
          "name": "stdout",
          "text": [
            "Posioned Data Accuracy on good_model_10 or attack success rate:: 77.20966484801247\n"
          ]
        }
      ]
    },
    {
      "cell_type": "code",
      "source": [
        "\n",
        "# Evaluate the model on poisoned data\n",
        "# Use predict to get predicted probabilities\n",
        "poisioned_predictions = pruned_model_10.predict(x_poisoned_test)\n",
        "\n",
        "# Convert predicted probabilities to class labels\n",
        "poisioned_predictions_labels = np.argmax(poisioned_predictions, axis=1)\n",
        "\n",
        "# Calculate and print the clean accuracy\n",
        "poisioned_accuracy = np.mean(poisioned_predictions_labels == y_poisioned_test)\n",
        "print(\"Posioned Data Accuracy with pruned_model_4 or attack success rate:\", poisioned_accuracy * 100)"
      ],
      "metadata": {
        "colab": {
          "base_uri": "https://localhost:8080/"
        },
        "id": "KOAIIuCFGSAH",
        "outputId": "0a56dd0e-7ea0-4fa5-f1a4-6237283a37b0"
      },
      "execution_count": 63,
      "outputs": [
        {
          "output_type": "stream",
          "name": "stdout",
          "text": [
            "401/401 [==============================] - 1s 3ms/step\n",
            "Posioned Data Accuracy with pruned_model_4 or attack success rate: 77.20966484801247\n"
          ]
        }
      ]
    },
    {
      "cell_type": "code",
      "source": [
        "import matplotlib.pyplot as plt\n",
        "import seaborn as sns\n",
        "\n",
        "# Results\n",
        "pruning_percentages = [2, 4, 10]\n",
        "\n",
        "# Clean Data Accuracy\n",
        "clean_accuracy_good_model = [95.74, 92.13, 84.33]\n",
        "clean_accuracy_pruned_model = [95.90, 92.29, 84.54]\n",
        "\n",
        "# Poisoned Data Accuracy (Attack Success Rate)\n",
        "poisoned_accuracy_good_model = [100.0, 99.98, 77.21]\n",
        "poisoned_accuracy_pruned_model = [100.0, 99.98, 77.21]\n",
        "\n",
        "# Creating a DataFrame for Seaborn\n",
        "import pandas as pd\n",
        "\n",
        "data = pd.DataFrame({\n",
        "    'Pruning Percentage': pruning_percentages * 4,\n",
        "    'Accuracy': clean_accuracy_good_model + clean_accuracy_pruned_model + poisoned_accuracy_good_model + poisoned_accuracy_pruned_model,\n",
        "    'Model': ['Clean Data (Good Model)'] * 3 + ['Clean Data (Pruned Model)'] * 3 + ['Poisoned  Data (Good Model)'] * 3 + ['Poisoned Data (Pruned Model)'] * 3\n",
        "})\n",
        "\n",
        "# Setting Seaborn style\n",
        "sns.set(style=\"whitegrid\")\n",
        "\n",
        "# Plotting\n",
        "plt.figure(figsize=(10, 6))\n",
        "sns.barplot(x='Pruning Percentage', y='Accuracy', hue='Model', data=data, palette=\"Set3\")\n",
        "\n",
        "# Adding labels and title\n",
        "plt.xlabel('Pruning Percentage')\n",
        "plt.ylabel('Accuracy (%)')\n",
        "plt.title('Clean and Poisoned Data Accuracy with Pruning')\n",
        "\n",
        "# Show plot\n",
        "plt.show()\n"
      ],
      "metadata": {
        "colab": {
          "base_uri": "https://localhost:8080/",
          "height": 573
        },
        "id": "KlHwS4JqI3j2",
        "outputId": "1e3815e8-f10f-4f79-ef8d-72117d89e7ec"
      },
      "execution_count": 73,
      "outputs": [
        {
          "output_type": "display_data",
          "data": {
            "text/plain": [
              "<Figure size 1000x600 with 1 Axes>"
            ],
            "image/png": "[encoded data removed]"
          },
          "metadata": {}
        }
      ]
    },
    {
      "cell_type": "code",
      "source": [
        "import matplotlib.pyplot as plt\n",
        "import seaborn as sns\n",
        "\n",
        "# Results\n",
        "pruning_percentages = [2, 4, 10]\n",
        "\n",
        "# Poisoned Data Accuracy (Attack Success Rate)\n",
        "poisoned_accuracy_good_model = [100.0, 99.98, 77.21]\n",
        "\n",
        "# Creating a DataFrame for Seaborn\n",
        "import pandas as pd\n",
        "\n",
        "data = pd.DataFrame({\n",
        "    'Pruning Percentage': pruning_percentages,\n",
        "    'Attack Success Rate': poisoned_accuracy_good_model,\n",
        "    'Model': ['Good Model'] * 3\n",
        "})\n",
        "\n",
        "# Setting Seaborn style\n",
        "sns.set(style=\"whitegrid\")\n",
        "\n",
        "# Plotting\n",
        "plt.figure(figsize=(8, 5))\n",
        "sns.barplot(x='Pruning Percentage', y='Attack Success Rate', hue='Model', data=data, palette=\"Set2\")\n",
        "\n",
        "# Adding labels and title\n",
        "plt.xlabel('Pruning Percentage')\n",
        "plt.ylabel('Attack Success Rate (%)')\n",
        "plt.title('Poisoned Data Accuracy (Attack Success Rate) with Pruning')\n",
        "\n",
        "# Show plot\n",
        "plt.show()\n"
      ],
      "metadata": {
        "colab": {
          "base_uri": "https://localhost:8080/",
          "height": 496
        },
        "id": "EuifEZ-qI6br",
        "outputId": "d56ac33e-a185-491c-dd9e-c3d99e7fcadd"
      },
      "execution_count": 76,
      "outputs": [
        {
          "output_type": "display_data",
          "data": {
            "text/plain": [
              "<Figure size 800x500 with 1 Axes>"
            ],
            "image/png": "[encoded data removed]"
          },
          "metadata": {}
        }
      ]
    },
    {
      "cell_type": "code",
      "source": [
        "!zip -r /content/file.zip /content/pruned_models"
      ],
      "metadata": {
        "colab": {
          "base_uri": "https://localhost:8080/"
        },
        "id": "T44XLJdgJJ8a",
        "outputId": "708d2b4d-a110-44fc-f72b-8d2014c763db"
      },
      "execution_count": 82,
      "outputs": [
        {
          "output_type": "stream",
          "name": "stdout",
          "text": [
            "  adding: content/pruned_models/ (stored 0%)\n",
            "  adding: content/pruned_models/10.0/ (stored 0%)\n",
            "  adding: content/pruned_models/10.0/assets/ (stored 0%)\n",
            "  adding: content/pruned_models/10.0/saved_model.pb (deflated 89%)\n",
            "  adding: content/pruned_models/10.0/fingerprint.pb (stored 0%)\n",
            "  adding: content/pruned_models/10.0/variables/ (stored 0%)\n",
            "  adding: content/pruned_models/10.0/variables/variables.data-00000-of-00001 (deflated 9%)\n",
            "  adding: content/pruned_models/10.0/variables/variables.index (deflated 57%)\n",
            "  adding: content/pruned_models/10.0/keras_metadata.pb (deflated 93%)\n",
            "  adding: content/pruned_models/4.0/ (stored 0%)\n",
            "  adding: content/pruned_models/4.0/assets/ (stored 0%)\n",
            "  adding: content/pruned_models/4.0/saved_model.pb (deflated 89%)\n",
            "  adding: content/pruned_models/4.0/fingerprint.pb (stored 0%)\n",
            "  adding: content/pruned_models/4.0/variables/ (stored 0%)\n",
            "  adding: content/pruned_models/4.0/variables/variables.data-00000-of-00001 (deflated 9%)\n",
            "  adding: content/pruned_models/4.0/variables/variables.index (deflated 57%)\n",
            "  adding: content/pruned_models/4.0/keras_metadata.pb (deflated 93%)\n",
            "  adding: content/pruned_models/2.0/ (stored 0%)\n",
            "  adding: content/pruned_models/2.0/assets/ (stored 0%)\n",
            "  adding: content/pruned_models/2.0/saved_model.pb (deflated 89%)\n",
            "  adding: content/pruned_models/2.0/fingerprint.pb (stored 0%)\n",
            "  adding: content/pruned_models/2.0/variables/ (stored 0%)\n",
            "  adding: content/pruned_models/2.0/variables/variables.data-00000-of-00001 (deflated 9%)\n",
            "  adding: content/pruned_models/2.0/variables/variables.index (deflated 57%)\n",
            "  adding: content/pruned_models/2.0/keras_metadata.pb (deflated 93%)\n"
          ]
        }
      ]
    },
    {
      "cell_type": "code",
      "source": [
        "from google.colab import files\n",
        "files.download(\"/content/file.zip\")"
      ],
      "metadata": {
        "colab": {
          "base_uri": "https://localhost:8080/",
          "height": 17
        },
        "id": "Y87FQvRuM4VG",
        "outputId": "57947adb-b6db-489f-9303-1373fb865728"
      },
      "execution_count": 83,
      "outputs": [
        {
          "output_type": "display_data",
          "data": {
            "text/plain": [
              "<IPython.core.display.Javascript object>"
            ],
            "application/javascript": [
              "\n",
              "    async function download(id, filename, size) {\n",
              "      if (!google.colab.kernel.accessAllowed) {\n",
              "        return;\n",
              "      }\n",
              "      const div = document.createElement('div');\n",
              "      const label = document.createElement('label');\n",
              "      label.textContent = `Downloading \"${filename}\": `;\n",
              "      div.appendChild(label);\n",
              "      const progress = document.createElement('progress');\n",
              "      progress.max = size;\n",
              "      div.appendChild(progress);\n",
              "      document.body.appendChild(div);\n",
              "\n",
              "      const buffers = [];\n",
              "      let downloaded = 0;\n",
              "\n",
              "      const channel = await google.colab.kernel.comms.open(id);\n",
              "      // Send a message to notify the kernel that we're ready.\n",
              "      channel.send({})\n",
              "\n",
              "      for await (const message of channel.messages) {\n",
              "        // Send a message to notify the kernel that we're ready.\n",
              "        channel.send({})\n",
              "        if (message.buffers) {\n",
              "          for (const buffer of message.buffers) {\n",
              "            buffers.push(buffer);\n",
              "            downloaded += buffer.byteLength;\n",
              "            progress.value = downloaded;\n",
              "          }\n",
              "        }\n",
              "      }\n",
              "      const blob = new Blob(buffers, {type: 'application/binary'});\n",
              "      const a = document.createElement('a');\n",
              "      a.href = window.URL.createObjectURL(blob);\n",
              "      a.download = filename;\n",
              "      div.appendChild(a);\n",
              "      a.click();\n",
              "      div.remove();\n",
              "    }\n",
              "  "
            ]
          },
          "metadata": {}
        },
        {
          "output_type": "display_data",
          "data": {
            "text/plain": [
              "<IPython.core.display.Javascript object>"
            ],
            "application/javascript": [
              "download(\"download_f06ad3f0-b190-4012-bb50-b85eaf2aed34\", \"file.zip\", 6666742)"
            ]
          },
          "metadata": {}
        }
      ]
    },
    {
      "cell_type": "code",
      "source": [
        "eval_model = keras.models.load_model('/content/pruned_models/10.0')\n",
        "print(eval_model.summary())"
      ],
      "metadata": {
        "colab": {
          "base_uri": "https://localhost:8080/"
        },
        "id": "gAkEfRGLM7Oz",
        "outputId": "d6bdd116-a172-4d62-80a0-7eb8c14780a0"
      },
      "execution_count": 87,
      "outputs": [
        {
          "output_type": "stream",
          "name": "stderr",
          "text": [
            "WARNING:tensorflow:No training configuration found in save file, so the model was *not* compiled. Compile it manually.\n"
          ]
        },
        {
          "output_type": "stream",
          "name": "stdout",
          "text": [
            "Model: \"model_1\"\n",
            "__________________________________________________________________________________________________\n",
            " Layer (type)                Output Shape                 Param #   Connected to                  \n",
            "==================================================================================================\n",
            " input (InputLayer)          [(None, 55, 47, 3)]          0         []                            \n",
            "                                                                                                  \n",
            " conv_1 (Conv2D)             (None, 52, 44, 20)           980       ['input[0][0]']               \n",
            "                                                                                                  \n",
            " pool_1 (MaxPooling2D)       (None, 26, 22, 20)           0         ['conv_1[0][0]']              \n",
            "                                                                                                  \n",
            " conv_2 (Conv2D)             (None, 24, 20, 40)           7240      ['pool_1[0][0]']              \n",
            "                                                                                                  \n",
            " pool_2 (MaxPooling2D)       (None, 12, 10, 40)           0         ['conv_2[0][0]']              \n",
            "                                                                                                  \n",
            " conv_3 (Conv2D)             (None, 10, 8, 60)            21660     ['pool_2[0][0]']              \n",
            "                                                                                                  \n",
            " pool_3 (MaxPooling2D)       (None, 5, 4, 60)             0         ['conv_3[0][0]']              \n",
            "                                                                                                  \n",
            " conv_4 (Conv2D)             (None, 4, 3, 80)             19280     ['pool_3[0][0]']              \n",
            "                                                                                                  \n",
            " flatten_1 (Flatten)         (None, 1200)                 0         ['pool_3[0][0]']              \n",
            "                                                                                                  \n",
            " flatten_2 (Flatten)         (None, 960)                  0         ['conv_4[0][0]']              \n",
            "                                                                                                  \n",
            " fc_1 (Dense)                (None, 160)                  192160    ['flatten_1[0][0]']           \n",
            "                                                                                                  \n",
            " fc_2 (Dense)                (None, 160)                  153760    ['flatten_2[0][0]']           \n",
            "                                                                                                  \n",
            " add_1 (Add)                 (None, 160)                  0         ['fc_1[0][0]',                \n",
            "                                                                     'fc_2[0][0]']                \n",
            "                                                                                                  \n",
            " activation_1 (Activation)   (None, 160)                  0         ['add_1[0][0]']               \n",
            "                                                                                                  \n",
            " output (Dense)              (None, 1283)                 206563    ['activation_1[0][0]']        \n",
            "                                                                                                  \n",
            "==================================================================================================\n",
            "Total params: 601643 (2.30 MB)\n",
            "Trainable params: 601643 (2.30 MB)\n",
            "Non-trainable params: 0 (0.00 Byte)\n",
            "__________________________________________________________________________________________________\n",
            "None\n"
          ]
        }
      ]
    },
    {
      "cell_type": "code",
      "source": [
        "saved_models = []\n",
        "attack_success = []\n",
        "acc = []\n",
        "\n",
        "model_copy = keras.models.clone_model(model)\n",
        "model_copy.set_weights(model.get_weights())\n",
        "\n",
        "# Modify the weights of the specified channel to prune it\n",
        "weights = model_copy.layers[5].get_weights()\n",
        "\n",
        "# Use predict to get predicted probabilities\n",
        "clean_predictions = model_copy.predict(x_clean)\n",
        "\n",
        "# Convert predicted probabilities to class labels\n",
        "clean_predictions_labels = np.argmax(clean_predictions, axis=1)\n",
        "\n",
        "# Calculate and print the clean accuracy\n",
        "clean_data_acc = np.mean(clean_predictions_labels == y_clean)\n",
        "print()\n",
        "print(\"Clean data accuracy: \", clean_data_acc)\n",
        "def prune(model, layer_name, cl_x_test, cl_y_test, bd_x_test, bd_y_test, channels, epsilon, avg_activations):\n",
        "\n",
        "\n",
        "    # Iterate through channels and prune\n",
        "    for channel_index in tqdm(channels):\n",
        "\n",
        "        w = weights[0][:, :, :, channel_index] = 0\n",
        "        b = weights[1][channel_index] = 0\n",
        "        model_copy.layers[5].set_weights(weights)\n",
        "\n",
        "        # Evaluate the pruned model on clean data\n",
        "        # Use predict to get predicted probabilities\n",
        "        prune_predictions = model_copy.predict(x_clean)\n",
        "\n",
        "        # Convert predicted probabilities to class labels\n",
        "        prune_predictions_labels = np.argmax(prune_predictions, axis=1)\n",
        "\n",
        "        # Calculate and print the clean accuracy\n",
        "        prune_data_acc = np.mean(prune_predictions_labels == y_clean)\n",
        "        acc.append(prune_data_acc)\n",
        "        print()\n",
        "        print(\"Accuracy after dropping channel index: \", channel_index, \" is: \", prune_data_acc)\n",
        "\n",
        "        # Save the model if accuracy drops by specified percentages\n",
        "\n",
        "        bd_label_p = np.argmax(model_copy.predict(x_poisoned), axis=1)\n",
        "        asr = np.mean(np.equal(bd_label_p, y_poisoned))*100\n",
        "        attack_success.append(asr)\n",
        "        print(\"Attack succes rate:\",  asr)\n",
        "\n",
        "    return saved_models"
      ],
      "metadata": {
        "colab": {
          "base_uri": "https://localhost:8080/"
        },
        "id": "SWEEP64YRGfl",
        "outputId": "25a56220-8c22-4ca1-d926-8af80381846a"
      },
      "execution_count": 7,
      "outputs": [
        {
          "output_type": "stream",
          "name": "stdout",
          "text": [
            "361/361 [==============================] - 2s 4ms/step\n",
            "\n",
            "Clean data accuracy:  0.9864899974019226\n"
          ]
        }
      ]
    },
    {
      "cell_type": "code",
      "source": [
        "\n",
        "original_model = model\n",
        "\n",
        "# Set the layer name\n",
        "layer_name = 'pool_3'\n",
        "\n",
        "# percentage accuracy drop\n",
        "epsilon = 2/100\n",
        "c = channels[:30]\n",
        "# Prune and save models\n",
        "saved_model = prune(original_model, layer_name, x_clean, y_clean, x_poisoned, y_poisoned, c, epsilon, avg_activations)"
      ],
      "metadata": {
        "colab": {
          "base_uri": "https://localhost:8080/"
        },
        "id": "10fOMz7SNPfO",
        "outputId": "e87dcfb8-229e-42b1-94dd-1b93ef694543"
      },
      "execution_count": 8,
      "outputs": [
        {
          "output_type": "stream",
          "name": "stderr",
          "text": [
            "\r  0%|          | 0/30 [00:00<?, ?it/s]"
          ]
        },
        {
          "output_type": "stream",
          "name": "stdout",
          "text": [
            "361/361 [==============================] - 1s 2ms/step\n",
            "\n",
            "Accuracy after dropping channel index:  0  is:  0.9864899974019226\n",
            "361/361 [==============================] - 1s 2ms/step\n"
          ]
        },
        {
          "output_type": "stream",
          "name": "stderr",
          "text": [
            "\r  3%|▎         | 1/30 [00:04<02:10,  4.52s/it]"
          ]
        },
        {
          "output_type": "stream",
          "name": "stdout",
          "text": [
            "Attack succes rate: 100.0\n",
            "361/361 [==============================] - 1s 2ms/step\n",
            "\n",
            "Accuracy after dropping channel index:  26  is:  0.9864899974019226\n",
            "361/361 [==============================] - 1s 2ms/step\n"
          ]
        },
        {
          "output_type": "stream",
          "name": "stderr",
          "text": [
            "\r  7%|▋         | 2/30 [00:09<02:12,  4.72s/it]"
          ]
        },
        {
          "output_type": "stream",
          "name": "stdout",
          "text": [
            "Attack succes rate: 100.0\n",
            "361/361 [==============================] - 1s 4ms/step\n",
            "\n",
            "Accuracy after dropping channel index:  27  is:  0.9864899974019226\n",
            "361/361 [==============================] - 1s 2ms/step\n"
          ]
        },
        {
          "output_type": "stream",
          "name": "stderr",
          "text": [
            "\r 10%|█         | 3/30 [00:14<02:16,  5.04s/it]"
          ]
        },
        {
          "output_type": "stream",
          "name": "stdout",
          "text": [
            "Attack succes rate: 100.0\n",
            "361/361 [==============================] - 1s 2ms/step\n",
            "\n",
            "Accuracy after dropping channel index:  30  is:  0.9864899974019226\n",
            "361/361 [==============================] - 1s 2ms/step\n"
          ]
        },
        {
          "output_type": "stream",
          "name": "stderr",
          "text": [
            "\r 13%|█▎        | 4/30 [00:19<02:05,  4.83s/it]"
          ]
        },
        {
          "output_type": "stream",
          "name": "stdout",
          "text": [
            "Attack succes rate: 100.0\n",
            "361/361 [==============================] - 1s 2ms/step\n",
            "\n",
            "Accuracy after dropping channel index:  31  is:  0.9864899974019226\n",
            "361/361 [==============================] - 1s 3ms/step\n"
          ]
        },
        {
          "output_type": "stream",
          "name": "stderr",
          "text": [
            "\r 17%|█▋        | 5/30 [00:24<02:00,  4.81s/it]"
          ]
        },
        {
          "output_type": "stream",
          "name": "stdout",
          "text": [
            "Attack succes rate: 100.0\n",
            "361/361 [==============================] - 1s 3ms/step\n",
            "\n",
            "Accuracy after dropping channel index:  33  is:  0.9864899974019226\n",
            "361/361 [==============================] - 1s 2ms/step\n"
          ]
        },
        {
          "output_type": "stream",
          "name": "stderr",
          "text": [
            "\r 20%|██        | 6/30 [00:29<01:58,  4.93s/it]"
          ]
        },
        {
          "output_type": "stream",
          "name": "stdout",
          "text": [
            "Attack succes rate: 100.0\n",
            "361/361 [==============================] - 1s 2ms/step\n",
            "\n",
            "Accuracy after dropping channel index:  34  is:  0.9864899974019226\n",
            "361/361 [==============================] - 1s 2ms/step\n"
          ]
        },
        {
          "output_type": "stream",
          "name": "stderr",
          "text": [
            "\r 23%|██▎       | 7/30 [00:33<01:48,  4.72s/it]"
          ]
        },
        {
          "output_type": "stream",
          "name": "stdout",
          "text": [
            "Attack succes rate: 100.0\n",
            "361/361 [==============================] - 1s 2ms/step\n",
            "\n",
            "Accuracy after dropping channel index:  36  is:  0.9864899974019226\n",
            "361/361 [==============================] - 1s 3ms/step\n"
          ]
        },
        {
          "output_type": "stream",
          "name": "stderr",
          "text": [
            "\r 27%|██▋       | 8/30 [00:38<01:44,  4.75s/it]"
          ]
        },
        {
          "output_type": "stream",
          "name": "stdout",
          "text": [
            "Attack succes rate: 100.0\n",
            "361/361 [==============================] - 1s 3ms/step\n",
            "\n",
            "Accuracy after dropping channel index:  37  is:  0.9864899974019226\n",
            "361/361 [==============================] - 1s 2ms/step\n"
          ]
        },
        {
          "output_type": "stream",
          "name": "stderr",
          "text": [
            "\r 30%|███       | 9/30 [00:44<01:51,  5.32s/it]"
          ]
        },
        {
          "output_type": "stream",
          "name": "stdout",
          "text": [
            "Attack succes rate: 100.0\n",
            "361/361 [==============================] - 1s 2ms/step\n",
            "\n",
            "Accuracy after dropping channel index:  38  is:  0.9864899974019226\n",
            "361/361 [==============================] - 1s 2ms/step\n"
          ]
        },
        {
          "output_type": "stream",
          "name": "stderr",
          "text": [
            "\r 33%|███▎      | 10/30 [00:49<01:41,  5.09s/it]"
          ]
        },
        {
          "output_type": "stream",
          "name": "stdout",
          "text": [
            "Attack succes rate: 100.0\n",
            "361/361 [==============================] - 1s 3ms/step\n",
            "\n",
            "Accuracy after dropping channel index:  25  is:  0.9864899974019226\n",
            "361/361 [==============================] - 1s 3ms/step\n"
          ]
        },
        {
          "output_type": "stream",
          "name": "stderr",
          "text": [
            "\r 37%|███▋      | 11/30 [00:54<01:38,  5.17s/it]"
          ]
        },
        {
          "output_type": "stream",
          "name": "stdout",
          "text": [
            "Attack succes rate: 100.0\n",
            "361/361 [==============================] - 1s 2ms/step\n",
            "\n",
            "Accuracy after dropping channel index:  39  is:  0.9864899974019226\n",
            "361/361 [==============================] - 1s 2ms/step\n"
          ]
        },
        {
          "output_type": "stream",
          "name": "stderr",
          "text": [
            "\r 40%|████      | 12/30 [00:59<01:31,  5.07s/it]"
          ]
        },
        {
          "output_type": "stream",
          "name": "stdout",
          "text": [
            "Attack succes rate: 100.0\n",
            "361/361 [==============================] - 1s 2ms/step\n",
            "\n",
            "Accuracy after dropping channel index:  41  is:  0.9864899974019226\n",
            "361/361 [==============================] - 1s 4ms/step\n"
          ]
        },
        {
          "output_type": "stream",
          "name": "stderr",
          "text": [
            "\r 43%|████▎     | 13/30 [01:05<01:27,  5.17s/it]"
          ]
        },
        {
          "output_type": "stream",
          "name": "stdout",
          "text": [
            "Attack succes rate: 100.0\n",
            "361/361 [==============================] - 1s 4ms/step\n",
            "\n",
            "Accuracy after dropping channel index:  44  is:  0.9864899974019226\n",
            "361/361 [==============================] - 1s 3ms/step\n"
          ]
        },
        {
          "output_type": "stream",
          "name": "stderr",
          "text": [
            "\r 47%|████▋     | 14/30 [01:10<01:25,  5.37s/it]"
          ]
        },
        {
          "output_type": "stream",
          "name": "stdout",
          "text": [
            "Attack succes rate: 100.0\n",
            "361/361 [==============================] - 1s 3ms/step\n",
            "\n",
            "Accuracy after dropping channel index:  45  is:  0.9864899974019226\n",
            "361/361 [==============================] - 1s 2ms/step\n"
          ]
        },
        {
          "output_type": "stream",
          "name": "stderr",
          "text": [
            "\r 50%|█████     | 15/30 [01:15<01:17,  5.20s/it]"
          ]
        },
        {
          "output_type": "stream",
          "name": "stdout",
          "text": [
            "Attack succes rate: 100.0\n",
            "361/361 [==============================] - 1s 2ms/step\n",
            "\n",
            "Accuracy after dropping channel index:  47  is:  0.9864899974019226\n",
            "361/361 [==============================] - 1s 3ms/step\n"
          ]
        },
        {
          "output_type": "stream",
          "name": "stderr",
          "text": [
            "\r 53%|█████▎    | 16/30 [01:20<01:10,  5.06s/it]"
          ]
        },
        {
          "output_type": "stream",
          "name": "stdout",
          "text": [
            "Attack succes rate: 100.0\n",
            "361/361 [==============================] - 1s 3ms/step\n",
            "\n",
            "Accuracy after dropping channel index:  48  is:  0.9864899974019226\n",
            "361/361 [==============================] - 1s 2ms/step\n"
          ]
        },
        {
          "output_type": "stream",
          "name": "stderr",
          "text": [
            "\r 57%|█████▋    | 17/30 [01:25<01:05,  5.01s/it]"
          ]
        },
        {
          "output_type": "stream",
          "name": "stdout",
          "text": [
            "Attack succes rate: 100.0\n",
            "361/361 [==============================] - 1s 2ms/step\n",
            "\n",
            "Accuracy after dropping channel index:  49  is:  0.9864899974019226\n",
            "361/361 [==============================] - 1s 2ms/step\n"
          ]
        },
        {
          "output_type": "stream",
          "name": "stderr",
          "text": [
            "\r 60%|██████    | 18/30 [01:29<00:57,  4.82s/it]"
          ]
        },
        {
          "output_type": "stream",
          "name": "stdout",
          "text": [
            "Attack succes rate: 100.0\n",
            "361/361 [==============================] - 1s 2ms/step\n",
            "\n",
            "Accuracy after dropping channel index:  50  is:  0.9864899974019226\n",
            "361/361 [==============================] - 1s 3ms/step\n"
          ]
        },
        {
          "output_type": "stream",
          "name": "stderr",
          "text": [
            "\r 63%|██████▎   | 19/30 [01:35<00:57,  5.25s/it]"
          ]
        },
        {
          "output_type": "stream",
          "name": "stdout",
          "text": [
            "Attack succes rate: 100.0\n",
            "361/361 [==============================] - 1s 2ms/step\n",
            "\n",
            "Accuracy after dropping channel index:  53  is:  0.9864899974019226\n",
            "361/361 [==============================] - 1s 2ms/step\n"
          ]
        },
        {
          "output_type": "stream",
          "name": "stderr",
          "text": [
            "\r 67%|██████▋   | 20/30 [01:40<00:50,  5.02s/it]"
          ]
        },
        {
          "output_type": "stream",
          "name": "stdout",
          "text": [
            "Attack succes rate: 100.0\n",
            "361/361 [==============================] - 1s 2ms/step\n",
            "\n",
            "Accuracy after dropping channel index:  55  is:  0.9864899974019226\n",
            "361/361 [==============================] - 1s 2ms/step\n"
          ]
        },
        {
          "output_type": "stream",
          "name": "stderr",
          "text": [
            "\r 70%|███████   | 21/30 [01:44<00:43,  4.82s/it]"
          ]
        },
        {
          "output_type": "stream",
          "name": "stdout",
          "text": [
            "Attack succes rate: 100.0\n",
            "361/361 [==============================] - 1s 3ms/step\n",
            "\n",
            "Accuracy after dropping channel index:  40  is:  0.9864899974019226\n",
            "361/361 [==============================] - 1s 2ms/step\n"
          ]
        },
        {
          "output_type": "stream",
          "name": "stderr",
          "text": [
            "\r 73%|███████▎  | 22/30 [01:50<00:41,  5.15s/it]"
          ]
        },
        {
          "output_type": "stream",
          "name": "stdout",
          "text": [
            "Attack succes rate: 100.0\n",
            "361/361 [==============================] - 1s 2ms/step\n",
            "\n",
            "Accuracy after dropping channel index:  24  is:  0.9864899974019226\n",
            "361/361 [==============================] - 1s 2ms/step\n"
          ]
        },
        {
          "output_type": "stream",
          "name": "stderr",
          "text": [
            "\r 77%|███████▋  | 23/30 [01:55<00:34,  4.90s/it]"
          ]
        },
        {
          "output_type": "stream",
          "name": "stdout",
          "text": [
            "Attack succes rate: 100.0\n",
            "361/361 [==============================] - 1s 3ms/step\n",
            "\n",
            "Accuracy after dropping channel index:  59  is:  0.9864899974019226\n",
            "361/361 [==============================] - 1s 3ms/step\n"
          ]
        },
        {
          "output_type": "stream",
          "name": "stderr",
          "text": [
            "\r 80%|████████  | 24/30 [02:01<00:31,  5.29s/it]"
          ]
        },
        {
          "output_type": "stream",
          "name": "stdout",
          "text": [
            "Attack succes rate: 100.0\n",
            "361/361 [==============================] - 1s 2ms/step\n",
            "\n",
            "Accuracy after dropping channel index:  9  is:  0.9864899974019226\n",
            "361/361 [==============================] - 1s 2ms/step\n"
          ]
        },
        {
          "output_type": "stream",
          "name": "stderr",
          "text": [
            "\r 83%|████████▎ | 25/30 [02:05<00:25,  5.03s/it]"
          ]
        },
        {
          "output_type": "stream",
          "name": "stdout",
          "text": [
            "Attack succes rate: 100.0\n",
            "361/361 [==============================] - 1s 2ms/step\n",
            "\n",
            "Accuracy after dropping channel index:  2  is:  0.9864899974019226\n",
            "361/361 [==============================] - 1s 2ms/step\n"
          ]
        },
        {
          "output_type": "stream",
          "name": "stderr",
          "text": [
            "\r 87%|████████▋ | 26/30 [02:10<00:19,  4.87s/it]"
          ]
        },
        {
          "output_type": "stream",
          "name": "stdout",
          "text": [
            "Attack succes rate: 100.0\n",
            "361/361 [==============================] - 1s 3ms/step\n",
            "\n",
            "Accuracy after dropping channel index:  12  is:  0.9864899974019226\n",
            "361/361 [==============================] - 1s 3ms/step\n"
          ]
        },
        {
          "output_type": "stream",
          "name": "stderr",
          "text": [
            "\r 90%|█████████ | 27/30 [02:15<00:15,  5.05s/it]"
          ]
        },
        {
          "output_type": "stream",
          "name": "stdout",
          "text": [
            "Attack succes rate: 100.0\n",
            "361/361 [==============================] - 1s 2ms/step\n",
            "\n",
            "Accuracy after dropping channel index:  13  is:  0.9864899974019226\n",
            "361/361 [==============================] - 1s 2ms/step\n"
          ]
        },
        {
          "output_type": "stream",
          "name": "stderr",
          "text": [
            "\r 93%|█████████▎| 28/30 [02:20<00:09,  4.89s/it]"
          ]
        },
        {
          "output_type": "stream",
          "name": "stdout",
          "text": [
            "Attack succes rate: 100.0\n",
            "361/361 [==============================] - 1s 2ms/step\n",
            "\n",
            "Accuracy after dropping channel index:  17  is:  0.9864899974019226\n",
            "361/361 [==============================] - 1s 2ms/step\n"
          ]
        },
        {
          "output_type": "stream",
          "name": "stderr",
          "text": [
            "\r 97%|█████████▋| 29/30 [02:24<00:04,  4.76s/it]"
          ]
        },
        {
          "output_type": "stream",
          "name": "stdout",
          "text": [
            "Attack succes rate: 100.0\n",
            "361/361 [==============================] - 1s 4ms/step\n",
            "\n",
            "Accuracy after dropping channel index:  14  is:  0.9864899974019226\n",
            "361/361 [==============================] - 1s 3ms/step\n"
          ]
        },
        {
          "output_type": "stream",
          "name": "stderr",
          "text": [
            "100%|██████████| 30/30 [02:30<00:00,  5.01s/it]"
          ]
        },
        {
          "output_type": "stream",
          "name": "stdout",
          "text": [
            "Attack succes rate: 100.0\n"
          ]
        },
        {
          "output_type": "stream",
          "name": "stderr",
          "text": [
            "\n"
          ]
        }
      ]
    },
    {
      "cell_type": "code",
      "source": [
        "import pickle\n",
        "\n",
        "\n",
        "# Save the list to a file\n",
        "with open('attack_success_1.pkl', 'wb') as file:\n",
        "    pickle.dump(attack_success, file)\n",
        "\n",
        "# Save the list to a file\n",
        "with open('acc_1.pkl', 'wb') as file:\n",
        "    pickle.dump(acc, file)"
      ],
      "metadata": {
        "id": "E56afJCrVbD4"
      },
      "execution_count": 9,
      "outputs": []
    },
    {
      "cell_type": "code",
      "source": [
        "\n",
        "original_model = model\n",
        "\n",
        "# Set the layer name\n",
        "layer_name = 'pool_3'\n",
        "\n",
        "# percentage accuracy drop\n",
        "epsilon = 2/100\n",
        "c = channels[31:]\n",
        "# Prune and save models\n",
        "saved_model = prune(original_model, layer_name, x_clean, y_clean, x_poisoned, y_poisoned, c, epsilon, avg_activations)"
      ],
      "metadata": {
        "colab": {
          "base_uri": "https://localhost:8080/"
        },
        "id": "1CBrM1vQRqG2",
        "outputId": "7b157234-379d-4c36-848f-9fd4c6fcd993"
      },
      "execution_count": 8,
      "outputs": [
        {
          "output_type": "stream",
          "name": "stderr",
          "text": [
            "\r  0%|          | 0/29 [00:00<?, ?it/s]"
          ]
        },
        {
          "output_type": "stream",
          "name": "stdout",
          "text": [
            "361/361 [==============================] - 2s 4ms/step\n",
            "\n",
            "Accuracy after dropping channel index:  23  is:  0.9864899974019226\n",
            "361/361 [==============================] - 1s 2ms/step\n"
          ]
        },
        {
          "output_type": "stream",
          "name": "stderr",
          "text": [
            "\r  3%|▎         | 1/29 [00:06<03:00,  6.46s/it]"
          ]
        },
        {
          "output_type": "stream",
          "name": "stdout",
          "text": [
            "Attack succes rate: 100.0\n",
            "361/361 [==============================] - 1s 3ms/step\n",
            "\n",
            "Accuracy after dropping channel index:  6  is:  0.9864899974019226\n",
            "361/361 [==============================] - 1s 2ms/step\n"
          ]
        },
        {
          "output_type": "stream",
          "name": "stderr",
          "text": [
            "\r  7%|▋         | 2/29 [00:12<02:51,  6.37s/it]"
          ]
        },
        {
          "output_type": "stream",
          "name": "stdout",
          "text": [
            "Attack succes rate: 100.0\n",
            "361/361 [==============================] - 1s 2ms/step\n",
            "\n",
            "Accuracy after dropping channel index:  51  is:  0.9864033948211657\n",
            "361/361 [==============================] - 1s 2ms/step\n"
          ]
        },
        {
          "output_type": "stream",
          "name": "stderr",
          "text": [
            "\r 10%|█         | 3/29 [00:17<02:24,  5.55s/it]"
          ]
        },
        {
          "output_type": "stream",
          "name": "stdout",
          "text": [
            "Attack succes rate: 100.0\n",
            "361/361 [==============================] - 1s 3ms/step\n",
            "\n",
            "Accuracy after dropping channel index:  32  is:  0.9864033948211657\n",
            "361/361 [==============================] - 1s 3ms/step\n"
          ]
        },
        {
          "output_type": "stream",
          "name": "stderr",
          "text": [
            "\r 14%|█▍        | 4/29 [00:22<02:17,  5.50s/it]"
          ]
        },
        {
          "output_type": "stream",
          "name": "stdout",
          "text": [
            "Attack succes rate: 100.0\n",
            "361/361 [==============================] - 1s 2ms/step\n",
            "\n",
            "Accuracy after dropping channel index:  22  is:  0.9863167922404088\n",
            "361/361 [==============================] - 1s 2ms/step\n"
          ]
        },
        {
          "output_type": "stream",
          "name": "stderr",
          "text": [
            "\r 17%|█▋        | 5/29 [00:27<02:03,  5.16s/it]"
          ]
        },
        {
          "output_type": "stream",
          "name": "stdout",
          "text": [
            "Attack succes rate: 100.0\n",
            "361/361 [==============================] - 1s 2ms/step\n",
            "\n",
            "Accuracy after dropping channel index:  21  is:  0.9865765999826794\n",
            "361/361 [==============================] - 1s 2ms/step\n"
          ]
        },
        {
          "output_type": "stream",
          "name": "stderr",
          "text": [
            "\r 21%|██        | 6/29 [00:32<01:55,  5.03s/it]"
          ]
        },
        {
          "output_type": "stream",
          "name": "stdout",
          "text": [
            "Attack succes rate: 100.0\n",
            "361/361 [==============================] - 1s 3ms/step\n",
            "\n",
            "Accuracy after dropping channel index:  20  is:  0.9864899974019226\n",
            "361/361 [==============================] - 1s 3ms/step\n"
          ]
        },
        {
          "output_type": "stream",
          "name": "stderr",
          "text": [
            "\r 24%|██▍       | 7/29 [00:38<02:01,  5.52s/it]"
          ]
        },
        {
          "output_type": "stream",
          "name": "stdout",
          "text": [
            "Attack succes rate: 100.0\n",
            "361/361 [==============================] - 1s 2ms/step\n",
            "\n",
            "Accuracy after dropping channel index:  19  is:  0.9860569844981381\n",
            "361/361 [==============================] - 1s 2ms/step\n"
          ]
        },
        {
          "output_type": "stream",
          "name": "stderr",
          "text": [
            "\r 28%|██▊       | 8/29 [00:42<01:47,  5.12s/it]"
          ]
        },
        {
          "output_type": "stream",
          "name": "stdout",
          "text": [
            "Attack succes rate: 100.0\n",
            "361/361 [==============================] - 1s 2ms/step\n",
            "\n",
            "Accuracy after dropping channel index:  43  is:  0.9857105741751104\n",
            "361/361 [==============================] - 1s 3ms/step\n"
          ]
        },
        {
          "output_type": "stream",
          "name": "stderr",
          "text": [
            "\r 31%|███       | 9/29 [00:47<01:39,  4.97s/it]"
          ]
        },
        {
          "output_type": "stream",
          "name": "stdout",
          "text": [
            "Attack succes rate: 100.0\n",
            "361/361 [==============================] - 1s 3ms/step\n",
            "\n",
            "Accuracy after dropping channel index:  58  is:  0.9853641638520828\n",
            "361/361 [==============================] - 1s 2ms/step\n"
          ]
        },
        {
          "output_type": "stream",
          "name": "stderr",
          "text": [
            "\r 34%|███▍      | 10/29 [00:54<01:43,  5.44s/it]"
          ]
        },
        {
          "output_type": "stream",
          "name": "stdout",
          "text": [
            "Attack succes rate: 100.0\n",
            "361/361 [==============================] - 1s 2ms/step\n",
            "\n",
            "Accuracy after dropping channel index:  3  is:  0.9819000606218066\n",
            "361/361 [==============================] - 1s 4ms/step\n"
          ]
        },
        {
          "output_type": "stream",
          "name": "stderr",
          "text": [
            "\r 38%|███▊      | 11/29 [01:00<01:42,  5.72s/it]"
          ]
        },
        {
          "output_type": "stream",
          "name": "stdout",
          "text": [
            "Attack succes rate: 100.0\n",
            "361/361 [==============================] - 1s 3ms/step\n",
            "\n",
            "Accuracy after dropping channel index:  42  is:  0.9765307006148783\n",
            "361/361 [==============================] - 1s 3ms/step\n"
          ]
        },
        {
          "output_type": "stream",
          "name": "stderr",
          "text": [
            "\r 41%|████▏     | 12/29 [01:05<01:35,  5.61s/it]"
          ]
        },
        {
          "output_type": "stream",
          "name": "stdout",
          "text": [
            "Attack succes rate: 100.0\n",
            "361/361 [==============================] - 1s 2ms/step\n",
            "\n",
            "Accuracy after dropping channel index:  1  is:  0.9750584567420109\n",
            "361/361 [==============================] - 1s 2ms/step\n"
          ]
        },
        {
          "output_type": "stream",
          "name": "stderr",
          "text": [
            "\r 45%|████▍     | 13/29 [01:10<01:25,  5.32s/it]"
          ]
        },
        {
          "output_type": "stream",
          "name": "stdout",
          "text": [
            "Attack succes rate: 100.0\n",
            "361/361 [==============================] - 1s 2ms/step\n",
            "\n",
            "Accuracy after dropping channel index:  29  is:  0.9575647354291158\n",
            "361/361 [==============================] - 1s 2ms/step\n"
          ]
        },
        {
          "output_type": "stream",
          "name": "stderr",
          "text": [
            "\r 48%|████▊     | 14/29 [01:14<01:16,  5.09s/it]"
          ]
        },
        {
          "output_type": "stream",
          "name": "stdout",
          "text": [
            "Attack succes rate: 100.0\n",
            "361/361 [==============================] - 1s 3ms/step\n",
            "\n",
            "Accuracy after dropping channel index:  16  is:  0.9520221702606738\n",
            "361/361 [==============================] - 1s 2ms/step\n"
          ]
        },
        {
          "output_type": "stream",
          "name": "stderr",
          "text": [
            "\r 52%|█████▏    | 15/29 [01:21<01:15,  5.39s/it]"
          ]
        },
        {
          "output_type": "stream",
          "name": "stdout",
          "text": [
            "Attack succes rate: 99.9913397419243\n",
            "361/361 [==============================] - 1s 2ms/step\n",
            "\n",
            "Accuracy after dropping channel index:  56  is:  0.947172425738287\n",
            "361/361 [==============================] - 1s 2ms/step\n"
          ]
        },
        {
          "output_type": "stream",
          "name": "stderr",
          "text": [
            "\r 55%|█████▌    | 16/29 [01:25<01:07,  5.19s/it]"
          ]
        },
        {
          "output_type": "stream",
          "name": "stdout",
          "text": [
            "Attack succes rate: 99.9913397419243\n",
            "361/361 [==============================] - 1s 2ms/step\n",
            "\n",
            "Accuracy after dropping channel index:  46  is:  0.9209318437689443\n",
            "361/361 [==============================] - 1s 3ms/step\n"
          ]
        },
        {
          "output_type": "stream",
          "name": "stderr",
          "text": [
            "\r 59%|█████▊    | 17/29 [01:31<01:04,  5.40s/it]"
          ]
        },
        {
          "output_type": "stream",
          "name": "stdout",
          "text": [
            "Attack succes rate: 99.9913397419243\n",
            "361/361 [==============================] - 1s 2ms/step\n",
            "\n",
            "Accuracy after dropping channel index:  5  is:  0.9149562656967177\n",
            "361/361 [==============================] - 1s 2ms/step\n"
          ]
        },
        {
          "output_type": "stream",
          "name": "stderr",
          "text": [
            "\r 62%|██████▏   | 18/29 [01:36<00:57,  5.21s/it]"
          ]
        },
        {
          "output_type": "stream",
          "name": "stdout",
          "text": [
            "Attack succes rate: 99.9913397419243\n",
            "361/361 [==============================] - 1s 2ms/step\n",
            "\n",
            "Accuracy after dropping channel index:  8  is:  0.9101931237550879\n",
            "361/361 [==============================] - 1s 2ms/step\n"
          ]
        },
        {
          "output_type": "stream",
          "name": "stderr",
          "text": [
            "\r 66%|██████▌   | 19/29 [01:41<00:51,  5.11s/it]"
          ]
        },
        {
          "output_type": "stream",
          "name": "stdout",
          "text": [
            "Attack succes rate: 99.98267948384861\n",
            "361/361 [==============================] - 1s 3ms/step\n",
            "\n",
            "Accuracy after dropping channel index:  11  is:  0.8917467740538668\n",
            "361/361 [==============================] - 1s 2ms/step\n"
          ]
        },
        {
          "output_type": "stream",
          "name": "stderr",
          "text": [
            "\r 69%|██████▉   | 20/29 [01:46<00:47,  5.23s/it]"
          ]
        },
        {
          "output_type": "stream",
          "name": "stdout",
          "text": [
            "Attack succes rate: 80.73958603966398\n",
            "361/361 [==============================] - 1s 2ms/step\n",
            "\n",
            "Accuracy after dropping channel index:  54  is:  0.8443751623798389\n",
            "361/361 [==============================] - 1s 2ms/step\n"
          ]
        },
        {
          "output_type": "stream",
          "name": "stderr",
          "text": [
            "\r 72%|███████▏  | 21/29 [01:51<00:40,  5.02s/it]"
          ]
        },
        {
          "output_type": "stream",
          "name": "stdout",
          "text": [
            "Attack succes rate: 77.015675067117\n",
            "361/361 [==============================] - 1s 2ms/step\n",
            "\n",
            "Accuracy after dropping channel index:  10  is:  0.7648739932449987\n",
            "361/361 [==============================] - 1s 3ms/step\n"
          ]
        },
        {
          "output_type": "stream",
          "name": "stderr",
          "text": [
            "\r 76%|███████▌  | 22/29 [01:57<00:37,  5.31s/it]"
          ]
        },
        {
          "output_type": "stream",
          "name": "stdout",
          "text": [
            "Attack succes rate: 35.71490430414826\n",
            "361/361 [==============================] - 1s 2ms/step\n",
            "\n",
            "Accuracy after dropping channel index:  28  is:  0.548627349095003\n",
            "361/361 [==============================] - 1s 2ms/step\n"
          ]
        },
        {
          "output_type": "stream",
          "name": "stderr",
          "text": [
            "\r 79%|███████▉  | 23/29 [02:02<00:31,  5.22s/it]"
          ]
        },
        {
          "output_type": "stream",
          "name": "stdout",
          "text": [
            "Attack succes rate: 6.954187234779596\n",
            "361/361 [==============================] - 1s 2ms/step\n",
            "\n",
            "Accuracy after dropping channel index:  35  is:  0.2708928726076037\n",
            "361/361 [==============================] - 1s 2ms/step\n"
          ]
        },
        {
          "output_type": "stream",
          "name": "stderr",
          "text": [
            "\r 83%|████████▎ | 24/29 [02:06<00:24,  4.92s/it]"
          ]
        },
        {
          "output_type": "stream",
          "name": "stdout",
          "text": [
            "Attack succes rate: 0.4243526457088421\n",
            "361/361 [==============================] - 1s 3ms/step\n",
            "\n",
            "Accuracy after dropping channel index:  18  is:  0.1387373343725643\n",
            "361/361 [==============================] - 1s 3ms/step\n"
          ]
        },
        {
          "output_type": "stream",
          "name": "stderr",
          "text": [
            "\r 86%|████████▌ | 25/29 [02:13<00:21,  5.42s/it]"
          ]
        },
        {
          "output_type": "stream",
          "name": "stdout",
          "text": [
            "Attack succes rate: 0.0\n",
            "361/361 [==============================] - 1s 2ms/step\n",
            "\n",
            "Accuracy after dropping channel index:  4  is:  0.07101411622066338\n",
            "361/361 [==============================] - 1s 2ms/step\n"
          ]
        },
        {
          "output_type": "stream",
          "name": "stderr",
          "text": [
            "\r 90%|████████▉ | 26/29 [02:17<00:15,  5.23s/it]"
          ]
        },
        {
          "output_type": "stream",
          "name": "stdout",
          "text": [
            "Attack succes rate: 0.0\n",
            "361/361 [==============================] - 1s 2ms/step\n",
            "\n",
            "Accuracy after dropping channel index:  7  is:  0.015501861955486274\n",
            "361/361 [==============================] - 1s 3ms/step\n"
          ]
        },
        {
          "output_type": "stream",
          "name": "stderr",
          "text": [
            "\r 93%|█████████▎| 27/29 [02:22<00:10,  5.09s/it]"
          ]
        },
        {
          "output_type": "stream",
          "name": "stdout",
          "text": [
            "Attack succes rate: 0.0\n",
            "361/361 [==============================] - 1s 3ms/step\n",
            "\n",
            "Accuracy after dropping channel index:  52  is:  0.007188014202823244\n",
            "361/361 [==============================] - 1s 2ms/step\n"
          ]
        },
        {
          "output_type": "stream",
          "name": "stderr",
          "text": [
            "\r 97%|█████████▋| 28/29 [02:28<00:05,  5.18s/it]"
          ]
        },
        {
          "output_type": "stream",
          "name": "stdout",
          "text": [
            "Attack succes rate: 0.0\n",
            "361/361 [==============================] - 1s 2ms/step\n",
            "\n",
            "Accuracy after dropping channel index:  57  is:  0.000779423226812159\n",
            "361/361 [==============================] - 1s 2ms/step\n"
          ]
        },
        {
          "output_type": "stream",
          "name": "stderr",
          "text": [
            "100%|██████████| 29/29 [02:32<00:00,  5.25s/it]"
          ]
        },
        {
          "output_type": "stream",
          "name": "stdout",
          "text": [
            "Attack succes rate: 0.0\n"
          ]
        },
        {
          "output_type": "stream",
          "name": "stderr",
          "text": [
            "\n"
          ]
        }
      ]
    },
    {
      "cell_type": "code",
      "source": [
        "import pickle\n",
        "\n",
        "\n",
        "# Save the list to a file\n",
        "with open('attack_success_2.pkl', 'wb') as file:\n",
        "    pickle.dump(attack_success, file)\n",
        "\n",
        "# Save the list to a file\n",
        "with open('acc_2.pkl', 'wb') as file:\n",
        "    pickle.dump(acc, file)"
      ],
      "metadata": {
        "id": "gFxN5-05UoCB"
      },
      "execution_count": 9,
      "outputs": []
    },
    {
      "cell_type": "code",
      "source": [
        "import pickle\n",
        "import matplotlib.pyplot as plt\n",
        "import numpy as np\n",
        "\n",
        "# Load accuracy arrays\n",
        "with open('acc_1.pkl', 'rb') as file:\n",
        "    acc1 = pickle.load(file)\n",
        "\n",
        "with open('acc_2.pkl', 'rb') as file:\n",
        "    acc2 = pickle.load(file)\n",
        "\n",
        "# Load attack success rate arrays\n",
        "with open('attack_success_1.pkl', 'rb') as file:\n",
        "    attack_success_1 = pickle.load(file)\n",
        "\n",
        "with open('attack_success_2.pkl', 'rb') as file:\n",
        "    attack_success_2 = pickle.load(file)\n",
        "\n",
        "# Concatenate accuracy arrays\n",
        "combined_acc = np.concatenate([acc1, acc2])\n",
        "\n",
        "# Concatenate attack success rate arrays\n",
        "combined_attack_success = np.concatenate([attack_success_1, attack_success_2])\n",
        "\n",
        "# Generate x-axis values\n",
        "num_channels_dropped = np.arange(len(combined_acc))\n",
        "\n",
        "# Plotting\n",
        "plt.figure(figsize=(10, 6))\n",
        "\n",
        "# Plot Combined Accuracy\n",
        "plt.subplot(2, 1, 1)\n",
        "plt.plot(num_channels_dropped, combined_acc, label='Combined Accuracy')\n",
        "plt.xlabel('Number of Channels Dropped')\n",
        "plt.ylabel('Accuracy')\n",
        "plt.title('Combined Accuracy vs Number of Channels Dropped')\n",
        "plt.legend()\n",
        "\n",
        "# Plot Combined Attack Success Rate\n",
        "plt.subplot(2, 1, 2)\n",
        "plt.plot(num_channels_dropped, combined_attack_success, label='Combined Attack Success Rate')\n",
        "plt.xlabel('Number of Channels Dropped')\n",
        "plt.ylabel('Attack Success Rate')\n",
        "plt.title('Combined Attack Success Rate vs Number of Channels Dropped')\n",
        "plt.legend()\n",
        "\n",
        "plt.tight_layout()\n",
        "plt.show()\n"
      ],
      "metadata": {
        "colab": {
          "base_uri": "https://localhost:8080/",
          "height": 560
        },
        "id": "LO-tUit-WzUX",
        "outputId": "32cab0f7-5818-4263-f0ac-bb2f3f157ac2"
      },
      "execution_count": 13,
      "outputs": [
        {
          "output_type": "display_data",
          "data": {
            "text/plain": [
              "<Figure size 1000x600 with 2 Axes>"
            ],
            "image/png": "[encoded data removed]"
          },
          "metadata": {}
        }
      ]
    },
    {
      "cell_type": "code",
      "source": [],
      "metadata": {
        "id": "aXikAppoX5Rd"
      },
      "execution_count": null,
      "outputs": []
    }
  ]
}